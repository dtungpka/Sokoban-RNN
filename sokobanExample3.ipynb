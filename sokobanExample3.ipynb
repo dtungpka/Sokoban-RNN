{
  "cells": [
    {
      "cell_type": "markdown",
      "source": [
        "# Final Project - Reinforcements Learning\n",
        "Hello dear students,<br> this is the template notebook. Please click on the \"File\" tab and then on \"Save a copy into drive\".\n",
        "\n",
        "---\n",
        "<br>\n",
        "\n",
        "### Name and ID:\n",
        "Student 1: Avraham Raviv, 204355390\n",
        "<br>\n",
        "Student 2: Yevgeni Berkovitch, 317079234\n",
        "<br><br>\n",
        "<img src=\"https://play-lh.googleusercontent.com/e_oKlKPISbgdzut1H9opevS7-LTB8-8lsmpCdMkhlnqFenZhpjxbLmx7l158-xQQCIY\">\n",
        "\n",
        "### https://github.com/mpSchrader/gym-sokoban"
      ],
      "metadata": {
        "id": "dSvjwmu3vPMR"
      }
    },
    {
      "cell_type": "markdown",
      "source": [
        "# Installs"
      ],
      "metadata": {
        "id": "4T3qcykHFi15"
      }
    },
    {
      "cell_type": "code",
      "source": [
        "%%capture\n",
        "!sudo apt-get update\n",
        "!sudo apt-get install -y xvfb ffmpeg freeglut3-dev\n",
        "!pip install 'imageio==2.4.0'\n",
        "!pip install gym\n",
        "!pip install pygame\n",
        "!apt-get install python-opengl -y\n",
        "!apt install xvfb -y\n",
        "!pip install pyvirtualdisplay\n",
        "!pip install piglet\n",
        "!pip install gym\n",
        "!apt-get install python-opengl -y\n",
        "!apt install xvfb -y\n",
        "!pip install gym_sokoban\n",
        "!git clone https://github.com/avivg7/sokoban-so.git\n",
        "!unzip /content/sokoban-so/Compress.zip"
      ],
      "metadata": {
        "id": "2dah0RrY9Kmj"
      },
      "execution_count": null,
      "outputs": []
    },
    {
      "cell_type": "markdown",
      "source": [
        "# Imports"
      ],
      "metadata": {
        "id": "yHbKbI7BwIwv"
      }
    },
    {
      "cell_type": "code",
      "source": [
        "import random\n",
        "import time\n",
        "import os\n",
        "\n",
        "import numpy as np\n",
        "import matplotlib.pyplot as plt\n",
        "\n",
        "import base64\n",
        "import imageio\n",
        "import IPython\n",
        "from pyvirtualdisplay import Display\n",
        "from IPython.display import HTML\n",
        "import pyvirtualdisplay\n",
        "\n",
        "import gym\n",
        "from gym import error, spaces, utils\n",
        "from soko_pap import *\n",
        "\n",
        "from collections import deque, defaultdict\n",
        "from queue import PriorityQueue\n",
        "\n",
        "from keras.models import Sequential\n",
        "from keras.layers import Dense, Conv2D, Flatten\n",
        "from tensorflow.keras.optimizers import Adam\n",
        "from tensorflow.keras.optimizers.schedules import ExponentialDecay\n",
        "\n",
        "from moviepy.editor import *\n",
        "import gdown\n",
        "from base64 import b64encode"
      ],
      "metadata": {
        "id": "1cNdWkV49OqN",
        "outputId": "4413f722-4b71-4072-91f0-a82f24cbacee",
        "colab": {
          "base_uri": "https://localhost:8080/"
        }
      },
      "execution_count": null,
      "outputs": [
        {
          "output_type": "stream",
          "name": "stdout",
          "text": [
            "Imageio: 'ffmpeg-linux64-v3.3.1' was not found on your computer; downloading it now.\n",
            "Try 1. Download from https://github.com/imageio/imageio-binaries/raw/master/ffmpeg/ffmpeg-linux64-v3.3.1 (43.8 MB)\n",
            "Downloading: 8192/45929032 bytes (0.0%)\b\b\b\b\b\b\b\b\b\b\b\b\b\b\b\b\b\b\b\b\b\b\b\b\b\b2760704/45929032 bytes (6.0%)\b\b\b\b\b\b\b\b\b\b\b\b\b\b\b\b\b\b\b\b\b\b\b\b\b\b\b\b\b6250496/45929032 bytes (13.6%)\b\b\b\b\b\b\b\b\b\b\b\b\b\b\b\b\b\b\b\b\b\b\b\b\b\b\b\b\b\b9560064/45929032 bytes (20.8%)\b\b\b\b\b\b\b\b\b\b\b\b\b\b\b\b\b\b\b\b\b\b\b\b\b\b\b\b\b\b13049856/45929032 bytes (28.4%)\b\b\b\b\b\b\b\b\b\b\b\b\b\b\b\b\b\b\b\b\b\b\b\b\b\b\b\b\b\b\b16547840/45929032 bytes (36.0%)\b\b\b\b\b\b\b\b\b\b\b\b\b\b\b\b\b\b\b\b\b\b\b\b\b\b\b\b\b\b\b20152320/45929032 bytes (43.9%)\b\b\b\b\b\b\b\b\b\b\b\b\b\b\b\b\b\b\b\b\b\b\b\b\b\b\b\b\b\b\b23568384/45929032 bytes (51.3%)\b\b\b\b\b\b\b\b\b\b\b\b\b\b\b\b\b\b\b\b\b\b\b\b\b\b\b\b\b\b\b27033600/45929032 bytes (58.9%)\b\b\b\b\b\b\b\b\b\b\b\b\b\b\b\b\b\b\b\b\b\b\b\b\b\b\b\b\b\b\b30638080/45929032 bytes (66.7%)\b\b\b\b\b\b\b\b\b\b\b\b\b\b\b\b\b\b\b\b\b\b\b\b\b\b\b\b\b\b\b33996800/45929032 bytes (74.0%)\b\b\b\b\b\b\b\b\b\b\b\b\b\b\b\b\b\b\b\b\b\b\b\b\b\b\b\b\b\b\b37576704/45929032 bytes (81.8%)\b\b\b\b\b\b\b\b\b\b\b\b\b\b\b\b\b\b\b\b\b\b\b\b\b\b\b\b\b\b\b41107456/45929032 bytes (89.5%)\b\b\b\b\b\b\b\b\b\b\b\b\b\b\b\b\b\b\b\b\b\b\b\b\b\b\b\b\b\b\b44630016/45929032 bytes (97.2%)\b\b\b\b\b\b\b\b\b\b\b\b\b\b\b\b\b\b\b\b\b\b\b\b\b\b\b\b\b\b\b45929032/45929032 bytes (100.0%)\n",
            "  Done\n",
            "File saved as /root/.imageio/ffmpeg/ffmpeg-linux64-v3.3.1.\n"
          ]
        },
        {
          "output_type": "stream",
          "name": "stderr",
          "text": [
            "WARNING:py.warnings:/usr/local/lib/python3.9/dist-packages/moviepy/video/fx/painting.py:7: DeprecationWarning: Please use `sobel` from the `scipy.ndimage` namespace, the `scipy.ndimage.filters` namespace is deprecated.\n",
            "  from scipy.ndimage.filters import sobel\n",
            "\n",
            "WARNING:py.warnings:/usr/local/lib/python3.9/dist-packages/html5lib/_trie/_base.py:3: DeprecationWarning: Using or importing the ABCs from 'collections' instead of from 'collections.abc' is deprecated since Python 3.3, and in 3.10 it will stop working\n",
            "  from collections import Mapping\n",
            "\n"
          ]
        }
      ]
    },
    {
      "cell_type": "code",
      "source": [
        "# load models\n",
        "!gdown https://drive.google.com/drive/u/0/folders/1sET8SWshtBvBOgRcVcp3J5VFtLkluVQp --folder"
      ],
      "metadata": {
        "id": "HudnDFKoeaZU",
        "outputId": "bffaf8cb-ebd8-4af5-f554-980ef663a88c",
        "colab": {
          "base_uri": "https://localhost:8080/"
        }
      },
      "execution_count": null,
      "outputs": [
        {
          "output_type": "stream",
          "name": "stdout",
          "text": [
            "Retrieving folder list\n",
            "Processing file 1iRyV-o2Q_qV9N-qETp2cAw9EBHUbG6Gt Q2_end.h5\n",
            "Processing file 1WwO_EROjCjIhiZRuNnhiVNTQnOw64KvY Q2_half.h5\n",
            "Processing file 1d3mOEoL7JiP8su54oqrnvxHTMs9TlO3A Q3_end.h5\n",
            "Processing file 1TZJY6GuWAM9tonje8tdtBIQDKtud_qIU Q3_half.h5\n",
            "Retrieving folder list completed\n",
            "Building directory structure\n",
            "Building directory structure completed\n",
            "Downloading...\n",
            "From: https://drive.google.com/uc?id=1iRyV-o2Q_qV9N-qETp2cAw9EBHUbG6Gt\n",
            "To: /content/models/Q2_end.h5\n",
            "100% 3.69M/3.69M [00:00<00:00, 113MB/s]\n",
            "Downloading...\n",
            "From: https://drive.google.com/uc?id=1WwO_EROjCjIhiZRuNnhiVNTQnOw64KvY\n",
            "To: /content/models/Q2_half.h5\n",
            "100% 3.69M/3.69M [00:00<00:00, 232MB/s]\n",
            "Downloading...\n",
            "From: https://drive.google.com/uc?id=1d3mOEoL7JiP8su54oqrnvxHTMs9TlO3A\n",
            "To: /content/models/Q3_end.h5\n",
            "100% 2.16M/2.16M [00:00<00:00, 94.7MB/s]\n",
            "Downloading...\n",
            "From: https://drive.google.com/uc?id=1TZJY6GuWAM9tonje8tdtBIQDKtud_qIU\n",
            "To: /content/models/Q3_half.h5\n",
            "100% 2.16M/2.16M [00:00<00:00, 57.9MB/s]\n",
            "Download completed\n"
          ]
        }
      ]
    },
    {
      "cell_type": "markdown",
      "source": [
        "# Display utils\n",
        "The cell below contains the video display configuration. No need to make changes here."
      ],
      "metadata": {
        "id": "J7bJeRHbwMIj"
      }
    },
    {
      "cell_type": "code",
      "source": [
        "def embed_mp4(filename):\n",
        "  \"\"\"Embeds an mp4 file in the notebook.\"\"\"\n",
        "  video = open(filename,'rb').read()\n",
        "  b64 = base64.b64encode(video)\n",
        "  tag = '''\n",
        "  <video width=\"640\" height=\"480\" controls>\n",
        "    <source src=\"data:video/mp4;base64,{0}\" type=\"video/mp4\">\n",
        "  Your browser does not support the video tag.\n",
        "  </video>'''.format(b64.decode())\n",
        "\n",
        "  return IPython.display.HTML(tag)\n",
        "display = pyvirtualdisplay.Display(visible=0, size=(1400, 900)).start()"
      ],
      "metadata": {
        "id": "z41WGwQt9i7_"
      },
      "execution_count": null,
      "outputs": []
    },
    {
      "cell_type": "markdown",
      "source": [
        "# EX2 - PUSH & PULL - ONE BOX"
      ],
      "metadata": {
        "id": "mOt9e38LiUX_"
      }
    },
    {
      "cell_type": "code",
      "source": [
        "#=============== DO NOT DELETE ===============\n",
        "sok_2 = PushAndPullSokobanEnv(dim_room=(7, 7),num_boxes=1 ,max_steps=500)\n",
        "# ============================================"
      ],
      "metadata": {
        "id": "QuO5Vz6X9KFP",
        "outputId": "efe9c36f-5a68-402d-9860-b8eba2bb97ee",
        "colab": {
          "base_uri": "https://localhost:8080/"
        }
      },
      "execution_count": null,
      "outputs": [
        {
          "output_type": "stream",
          "name": "stderr",
          "text": [
            "WARNING:py.warnings:/usr/local/lib/python3.9/dist-packages/gym/core.py:43: DeprecationWarning: \u001b[33mWARN: The argument mode in render method is deprecated; use render_mode during environment initialization instead.\n",
            "See here for more information: https://www.gymlibrary.ml/content/api/\u001b[0m\n",
            "  deprecation(\n",
            "\n"
          ]
        }
      ]
    },
    {
      "cell_type": "code",
      "source": [
        "screen = sok_2.render(mode='rgb_array')\n",
        "plt.imshow(sok_2.render('rgb_array'))\n",
        "observation, reward, done, _ = sok_2.step(1)\n",
        "# print_env_det(sok_2)"
      ],
      "metadata": {
        "id": "YzYaMz7drkE3",
        "colab": {
          "base_uri": "https://localhost:8080/",
          "height": 268
        },
        "outputId": "0fa77dc2-2123-49e8-ec69-f8c557d81cc9"
      },
      "execution_count": null,
      "outputs": [
        {
          "output_type": "display_data",
          "data": {
            "text/plain": [
              "<Figure size 432x288 with 1 Axes>"
            ],
            "image/png": "[encoded data removed]"
          },
          "metadata": {
            "needs_background": "light"
          }
        }
      ]
    },
    {
      "cell_type": "markdown",
      "source": [
        "## Utils"
      ],
      "metadata": {
        "id": "B_diP6BdT1Z5"
      }
    },
    {
      "cell_type": "code",
      "source": [
        "def get_distances(room_state):\n",
        "    for i in range(room_state.shape[0]):\n",
        "        for j in range(room_state.shape[1]):\n",
        "            if room_state[i][j] == 2:\n",
        "                target = (i, j)\n",
        "\n",
        "    distances = np.zeros(shape=room_state.shape)\n",
        "    visited_cells = set()\n",
        "    cell_queue = deque()\n",
        "\n",
        "    visited_cells.add(target)\n",
        "    cell_queue.appendleft(target)\n",
        "\n",
        "    while len(cell_queue) != 0:\n",
        "        cell = cell_queue.pop()\n",
        "        distance = distances[cell[0]][cell[1]]\n",
        "        for x,y in ((1,0), (-1,-0), (0,1), (0,-1)):\n",
        "            next_cell_x, next_cell_y = cell[0]+x, cell[1]+y\n",
        "            if room_state[next_cell_x][next_cell_y] != 0 and not (next_cell_x, next_cell_y) in visited_cells:\n",
        "                distances[next_cell_x][next_cell_y] = distance + 1\n",
        "                visited_cells.add((next_cell_x, next_cell_y))\n",
        "                cell_queue.appendleft((next_cell_x, next_cell_y))\n",
        "\n",
        "    return distances\n",
        "\n",
        "def calc_distances(room_state, distances):\n",
        "    box = None\n",
        "    mover = None\n",
        "    for i in range(room_state.shape[0]):\n",
        "        for j in range(room_state.shape[1]):\n",
        "            if room_state[i][j] == 4:\n",
        "                box = (i,j)\n",
        "\n",
        "            if room_state[i][j] == 5:\n",
        "                mover = (i,j)\n",
        "\n",
        "    return mover, box, distances[box[0]][box[1]]\n",
        "\n",
        "def box2target_change_reward(room_state, next_room_state, distances):\n",
        "    if np.array_equal(room_state, next_room_state):\n",
        "        return -1.0\n",
        "\n",
        "    mover, box, t2b = calc_distances(room_state, distances)\n",
        "    n_mover, n_box, n_t2b = calc_distances(next_room_state, distances)\n",
        "\n",
        "    change_reward = 0.0\n",
        "    if n_t2b < t2b:\n",
        "        change_reward += 5.0\n",
        "    elif n_t2b > t2b:\n",
        "        change_reward -= 5.0\n",
        "\n",
        "    m2b = np.sqrt((mover[0]-box[0])**2 + (mover[1]-box[1])**2)\n",
        "    n_m2b = np.sqrt((n_mover[0]-n_box[0])**2 + (n_mover[1]-n_box[1])**2)\n",
        "\n",
        "    if n_m2b < m2b and m2b >= 2:\n",
        "        change_reward += 1.0\n",
        "    elif n_m2b > m2b and n_m2b >= 2:\n",
        "        change_reward -= 1.0\n",
        "\n",
        "    return change_reward"
      ],
      "metadata": {
        "id": "82O7F5CWTqf6"
      },
      "execution_count": null,
      "outputs": []
    },
    {
      "cell_type": "markdown",
      "source": [
        "## Solution"
      ],
      "metadata": {
        "id": "8YgaW14dT7y5"
      }
    },
    {
      "cell_type": "code",
      "source": [
        "class SOK_Agent:\n",
        "    def __init__(self):\n",
        "        # Construct DQN models\n",
        "        self.state_size = (112,112,1)\n",
        "        self.action_size = 8\n",
        "        self.model = self._build_model()\n",
        "        self.target_model = self._build_model()\n",
        "        self.target_model.set_weights(self.model.get_weights())\n",
        "        self.batch_size = 8\n",
        "\n",
        "        # Replay buffers\n",
        "        self.replay_buffer = deque(maxlen=5000)\n",
        "        self.prioritized_replay_buffer = deque(maxlen=500)\n",
        "\n",
        "        # Hyperparameters\n",
        "        self.gamma = 0.9\n",
        "        self.epsilon = 1.0\n",
        "        self.epsilon_min = 0.3\n",
        "        self.epsilon_decay = 0.995\n",
        "        self.replay_rate = 10\n",
        "        self.update_beta = 0.999\n",
        "\n",
        "        self.action_rotation_map = {\n",
        "            0: 2,\n",
        "            1: 3,\n",
        "            2: 1,\n",
        "            3: 0,\n",
        "            4: 6,\n",
        "            5: 7,\n",
        "            6: 5,\n",
        "            7: 4\n",
        "        }\n",
        "\n",
        "    def _build_model(self):\n",
        "        model = Sequential()\n",
        "        model.add(Conv2D(32, (16,16), strides=(16,16), input_shape=self.state_size, activation='relu'))\n",
        "        model.add(Conv2D(64, (3,3), activation='relu'))\n",
        "        model.add(Conv2D(64, (3,3), padding='same', activation='relu'))\n",
        "        model.add(Flatten())\n",
        "        model.add(Dense(512, activation='relu'))\n",
        "        model.add(Dense(64, activation='relu'))\n",
        "        model.add(Dense(self.action_size, activation='linear'))\n",
        "\n",
        "        lr_schedule = ExponentialDecay(0.001, decay_steps=2000, decay_rate=0.95, staircase=False)\n",
        "        model.compile(optimizer=Adam(learning_rate=lr_schedule), loss='mse')\n",
        "        return model\n",
        "\n",
        "    def remember(self, state, action, reward, next_state, done):\n",
        "        self.replay_buffer.append([state, action, reward, next_state, done])\n",
        "\n",
        "    def copy_to_prioritized_buffer(self, n):\n",
        "        for i in range(n):\n",
        "            self.prioritized_replay_buffer.append(self.replay_buffer[-1-i])\n",
        "\n",
        "    def act(self, state, stochastic=False):\n",
        "        if np.random.rand() <= self.epsilon:\n",
        "            return random.randrange(self.action_size)\n",
        "\n",
        "        act_values = self.model.predict(state, verbose=0)[0]\n",
        "\n",
        "        if stochastic:\n",
        "            act_probs = np.exp(act_values)/np.exp(act_values).sum()\n",
        "            return np.random.choice(np.arange(self.action_size), size=1, p=act_probs)[0]\n",
        "\n",
        "        return np.argmax(act_values)\n",
        "\n",
        "    def replay(self):\n",
        "        if len(self.replay_buffer) < self.batch_size:\n",
        "            return\n",
        "\n",
        "        if len(self.prioritized_replay_buffer) < self.batch_size//2:\n",
        "            minibatch = random.sample(self.replay_buffer, self.batch_size)\n",
        "        else:\n",
        "            minibatch = random.sample(self.replay_buffer, self.batch_size//2)\n",
        "            minibatch.extend(random.sample(self.prioritized_replay_buffer, self.batch_size//2))\n",
        "\n",
        "        states = np.zeros((self.batch_size*4, self.state_size[0], self.state_size[1]))\n",
        "        actions = np.zeros(self.batch_size*4, dtype=int)\n",
        "        rewards = np.zeros(self.batch_size*4)\n",
        "        next_states = np.zeros((self.batch_size*4, self.state_size[0], self.state_size[1]))\n",
        "        statuses = np.zeros(self.batch_size*4)\n",
        "        targets = np.zeros((self.batch_size*4, self.action_size))\n",
        "\n",
        "        for i, (state, action, reward, next_state, done) in enumerate(minibatch):\n",
        "            for rot in range(4):\n",
        "                ind = i*4+rot\n",
        "                if rot != 0:\n",
        "                    state = np.rot90(state, axes=(1,2))\n",
        "                    next_state = np.rot90(next_state, axes=(1,2))\n",
        "                    action = self.action_rotation_map.get(action)\n",
        "\n",
        "                states[ind] = state.copy()\n",
        "                actions[ind] = action\n",
        "                rewards[ind] = reward\n",
        "                next_states[ind] = next_state.copy()\n",
        "                statuses[ind] = 1 if done else 0\n",
        "\n",
        "        targets = self.model.predict(states, verbose=0)\n",
        "        max_actions = np.argmax(self.model.predict(next_states, verbose=0), axis=1)\n",
        "        next_rewards = self.target_model.predict(next_states, verbose=0)\n",
        "\n",
        "        ind = 0\n",
        "        for action, reward, next_reward, max_action, done in zip(actions, rewards, next_rewards, max_actions, statuses):\n",
        "            if not done:\n",
        "                reward += self.gamma * next_reward[max_action]\n",
        "            targets[ind][action] = reward\n",
        "            ind += 1\n",
        "\n",
        "        self.model.fit(states, targets, epochs=10, verbose=0)\n",
        "\n",
        "        self.update_target_model()\n",
        "\n",
        "        if self.epsilon > self.epsilon_min:\n",
        "            self.epsilon = self.epsilon * self.epsilon_decay\n",
        "\n",
        "    def update_target_model(self):\n",
        "        model_w = self.model.get_weights()\n",
        "        target_model_w = self.target_model.get_weights()\n",
        "        updated_target_model_w = []\n",
        "        for i in range(len(model_w)):\n",
        "            updated_target_model_w.append(self.update_beta*target_model_w[i] + (1-self.update_beta)*model_w[i])\n",
        "        self.target_model.set_weights(updated_target_model_w)\n",
        "\n",
        "    def load(self, name):\n",
        "        self.model.load_weights(name)\n",
        "\n",
        "    def save(self, name):\n",
        "        self.model.save_weights(name)"
      ],
      "metadata": {
        "id": "3Q67gw2oTqih"
      },
      "execution_count": null,
      "outputs": []
    },
    {
      "cell_type": "code",
      "source": [
        "def process_frame(frame):\n",
        "    f = frame.mean(axis=2)\n",
        "    f = f / 255\n",
        "    return np.expand_dims(f, axis=0)"
      ],
      "metadata": {
        "id": "_3ztEp40Tqk6"
      },
      "execution_count": null,
      "outputs": []
    },
    {
      "cell_type": "markdown",
      "source": [
        "## Training and Testing"
      ],
      "metadata": {
        "id": "B1yJapnOUCcs"
      }
    },
    {
      "cell_type": "markdown",
      "source": [
        "#### Test Suite"
      ],
      "metadata": {
        "id": "lCAV_tMDUEn5"
      }
    },
    {
      "cell_type": "code",
      "source": [
        "def test_agent(e, cur_record, stochastic=False):\n",
        "    current_epsilon = agent.epsilon\n",
        "    agent.epsilon = 0.0\n",
        "    num_solved = 0\n",
        "    solved_in_steps = defaultdict(int)\n",
        "\n",
        "    for t in range(100):\n",
        "        random.seed(t)\n",
        "        sok = PushAndPullSokobanEnv(dim_room=(7, 7), num_boxes=1)\n",
        "        sok.set_maxsteps(20)\n",
        "        steps = 0\n",
        "\n",
        "        state = sok.get_image('rgb_array')\n",
        "        done = False\n",
        "        while not done:\n",
        "            steps += 1\n",
        "            action = agent.act(process_frame(state), stochastic)\n",
        "            if action < 4:\n",
        "                action += 1\n",
        "            else:\n",
        "                action += 5\n",
        "            state, reward, done, info = sok.step(action)\n",
        "\n",
        "        if 3 in sok.room_state:\n",
        "            num_solved += 1\n",
        "            solved_in_steps[steps] += 1\n",
        "\n",
        "    agent.epsilon = current_epsilon\n",
        "\n",
        "    if num_solved > cur_record:\n",
        "       agent.save(f\"models/Q2_{num_solved}_{e}.h5\")\n",
        "       cur_record = num_solved\n",
        "\n",
        "    print(\"Solved: %d\" % num_solved)\n",
        "    print(\"=\" * 30)\n",
        "    print(solved_in_steps)\n",
        "    print(\"*\" * 30)\n",
        "\n",
        "    return num_solved, cur_record"
      ],
      "metadata": {
        "id": "c-wOjsJrTqpZ"
      },
      "execution_count": null,
      "outputs": []
    },
    {
      "cell_type": "code",
      "source": [
        "max_episodes = 50000\n",
        "max_steps = 20\n",
        "\n",
        "def init_sok(r):\n",
        "    random.seed(r+100)\n",
        "    sok = PushAndPullSokobanEnv(dim_room=(7, 7), num_boxes=1)\n",
        "    sok.set_maxsteps(max_steps)\n",
        "    return sok\n",
        "\n",
        "agent = SOK_Agent()"
      ],
      "metadata": {
        "id": "XEkedg-eTqsF"
      },
      "execution_count": null,
      "outputs": []
    },
    {
      "cell_type": "markdown",
      "source": [
        "### Testing our learned models\n"
      ],
      "metadata": {
        "id": "3dQ-P9ZrGzkH"
      }
    },
    {
      "cell_type": "markdown",
      "source": [
        "#### In the middle"
      ],
      "metadata": {
        "id": "CbmWOiFwHCSU"
      }
    },
    {
      "cell_type": "code",
      "source": [
        "agent.load('models/Q2_half.h5')\n",
        "test_agent(0, 0)"
      ],
      "metadata": {
        "id": "9-R_5TscteJp",
        "outputId": "a8352d78-1ba5-45a1-a28a-6c403316765e",
        "colab": {
          "base_uri": "https://localhost:8080/"
        }
      },
      "execution_count": null,
      "outputs": [
        {
          "output_type": "stream",
          "name": "stdout",
          "text": [
            "Solved: 64\n",
            "==============================\n",
            "defaultdict(<class 'int'>, {3: 25, 1: 21, 6: 2, 2: 11, 5: 5})\n",
            "******************************\n"
          ]
        },
        {
          "output_type": "execute_result",
          "data": {
            "text/plain": [
              "(64, 64)"
            ]
          },
          "metadata": {},
          "execution_count": 12
        }
      ]
    },
    {
      "cell_type": "code",
      "source": [
        "tests = [3, 14, 49, 65]\n",
        "\n",
        "sok = init_sok(-100 + tests[0])\n",
        "sok.epsilon = 0\n",
        "agent.epsilon = 0\n",
        "start_time = time.time()\n",
        "done = False\n",
        "iter = 0\n",
        "video_filename = 'imageio.mp4'\n",
        "\n",
        "state = sok.get_image('rgb_array')\n",
        "\n",
        "with imageio.get_writer(video_filename, fps=1) as video:\n",
        "    video.append_data(sok.render(mode='rgb_array'))\n",
        "    while (iter < 10) or not done:\n",
        "        time_passed = int(time.time() - start_time)\n",
        "        if done or time_passed > 3:\n",
        "            break\n",
        "        iter +=1\n",
        "        action = agent.act(process_frame(state))\n",
        "\n",
        "        if action < 4:\n",
        "            action += 1\n",
        "        else:\n",
        "            action += 5\n",
        "\n",
        "        state, reward, done, info = sok.step(action)\n",
        "        video.append_data(sok.render(mode='rgb_array'))\n",
        "\n",
        "embed_mp4(video_filename)"
      ],
      "metadata": {
        "id": "XtvFHNmj17zm",
        "outputId": "a4f953d0-abfd-4f4b-dfaf-31219213910f",
        "colab": {
          "base_uri": "https://localhost:8080/",
          "height": 577
        }
      },
      "execution_count": null,
      "outputs": [
        {
          "output_type": "stream",
          "name": "stderr",
          "text": [
            "WARNING:py.warnings:/usr/local/lib/python3.9/dist-packages/imageio/plugins/ffmpeg.py:727: DeprecationWarning: tostring() is deprecated. Use tobytes() instead.\n",
            "  self._proc.stdin.write(im.tostring())\n",
            "\n"
          ]
        },
        {
          "output_type": "execute_result",
          "data": {
            "text/plain": [
              "<IPython.core.display.HTML object>"
            ],
            "text/html": [
              "\n",
              "  <video width=\"640\" height=\"480\" controls>\n",
              "    <source src=\"data:video/mp4;base64,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\" type=\"video/mp4\">\n",
              "  Your browser does not support the video tag.\n",
              "  </video>"
            ]
          },
          "metadata": {},
          "execution_count": 13
        }
      ]
    },
    {
      "cell_type": "code",
      "source": [
        "sok = init_sok(-100 + tests[1])\n",
        "sok.epsilon = 0\n",
        "agent.epsilon = 0\n",
        "start_time = time.time()\n",
        "done = False\n",
        "iter = 0\n",
        "video_filename = 'imageio.mp4'\n",
        "\n",
        "state = sok.get_image('rgb_array')\n",
        "\n",
        "with imageio.get_writer(video_filename, fps=2) as video:\n",
        "    video.append_data(sok.render(mode='rgb_array'))\n",
        "    while (iter < 10) or not done:\n",
        "        time_passed = int(time.time() - start_time)\n",
        "        if done or time_passed > 3:\n",
        "            break\n",
        "        iter +=1\n",
        "        action = agent.act(process_frame(state))\n",
        "\n",
        "        if action < 4:\n",
        "            action += 1\n",
        "        else:\n",
        "            action += 5\n",
        "\n",
        "        state, reward, done, info = sok.step(action)\n",
        "        video.append_data(sok.render(mode='rgb_array'))\n",
        "\n",
        "embed_mp4(video_filename)"
      ],
      "metadata": {
        "id": "BRtlOEaS4aem",
        "outputId": "3b3327af-b736-4735-9cb7-0922c7adadd6",
        "colab": {
          "base_uri": "https://localhost:8080/",
          "height": 502
        }
      },
      "execution_count": null,
      "outputs": [
        {
          "output_type": "execute_result",
          "data": {
            "text/plain": [
              "<IPython.core.display.HTML object>"
            ],
            "text/html": [
              "\n",
              "  <video width=\"640\" height=\"480\" controls>\n",
              "    <source src=\"data:video/mp4;base64,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\" type=\"video/mp4\">\n",
              "  Your browser does not support the video tag.\n",
              "  </video>"
            ]
          },
          "metadata": {},
          "execution_count": 14
        }
      ]
    },
    {
      "cell_type": "code",
      "source": [
        "sok = init_sok(-100 + tests[2])\n",
        "sok.epsilon = 0\n",
        "agent.epsilon = 0\n",
        "start_time = time.time()\n",
        "done = False\n",
        "iter = 0\n",
        "video_filename = 'imageio.mp4'\n",
        "\n",
        "state = sok.get_image('rgb_array')\n",
        "\n",
        "with imageio.get_writer(video_filename, fps=3) as video:\n",
        "    video.append_data(sok.render(mode='rgb_array'))\n",
        "    while (iter < 10) or not done:\n",
        "        time_passed = int(time.time() - start_time)\n",
        "        if done or time_passed > 3:\n",
        "            break\n",
        "        iter +=1\n",
        "        action = agent.act(process_frame(state))\n",
        "\n",
        "        if action < 4:\n",
        "            action += 1\n",
        "        else:\n",
        "            action += 5\n",
        "\n",
        "        state, reward, done, info = sok.step(action)\n",
        "        video.append_data(sok.render(mode='rgb_array'))\n",
        "\n",
        "embed_mp4(video_filename)"
      ],
      "metadata": {
        "id": "uk4K4y334KlL",
        "outputId": "b2f00808-eff9-49c9-ab06-895bc8b7a10f",
        "colab": {
          "base_uri": "https://localhost:8080/",
          "height": 502
        }
      },
      "execution_count": null,
      "outputs": [
        {
          "output_type": "execute_result",
          "data": {
            "text/plain": [
              "<IPython.core.display.HTML object>"
            ],
            "text/html": [
              "\n",
              "  <video width=\"640\" height=\"480\" controls>\n",
              "    <source src=\"data:video/mp4;base64,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\" type=\"video/mp4\">\n",
              "  Your browser does not support the video tag.\n",
              "  </video>"
            ]
          },
          "metadata": {},
          "execution_count": 15
        }
      ]
    },
    {
      "cell_type": "code",
      "source": [
        "sok = init_sok(-100 + tests[3])\n",
        "sok.epsilon = 0\n",
        "agent.epsilon = 0\n",
        "start_time = time.time()\n",
        "done = False\n",
        "iter = 0\n",
        "video_filename = 'imageio.mp4'\n",
        "\n",
        "state = sok.get_image('rgb_array')\n",
        "\n",
        "with imageio.get_writer(video_filename, fps=3) as video:\n",
        "    video.append_data(sok.render(mode='rgb_array'))\n",
        "    while (iter < 10) or not done:\n",
        "        time_passed = int(time.time() - start_time)\n",
        "        if done or time_passed > 3:\n",
        "            break\n",
        "        iter +=1\n",
        "        action = agent.act(process_frame(state))\n",
        "\n",
        "        if action < 4:\n",
        "            action += 1\n",
        "        else:\n",
        "            action += 5\n",
        "\n",
        "        state, reward, done, info = sok.step(action)\n",
        "        video.append_data(sok.render(mode='rgb_array'))\n",
        "\n",
        "embed_mp4(video_filename)"
      ],
      "metadata": {
        "id": "FixVVeSx4MTn",
        "outputId": "54167fff-ccce-403f-86db-05f60ffcb2b7",
        "colab": {
          "base_uri": "https://localhost:8080/",
          "height": 502
        }
      },
      "execution_count": null,
      "outputs": [
        {
          "output_type": "execute_result",
          "data": {
            "text/plain": [
              "<IPython.core.display.HTML object>"
            ],
            "text/html": [
              "\n",
              "  <video width=\"640\" height=\"480\" controls>\n",
              "    <source src=\"data:video/mp4;base64,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\" type=\"video/mp4\">\n",
              "  Your browser does not support the video tag.\n",
              "  </video>"
            ]
          },
          "metadata": {},
          "execution_count": 16
        }
      ]
    },
    {
      "cell_type": "markdown",
      "source": [
        "#### At the end"
      ],
      "metadata": {
        "id": "9A8PHg0THKW4"
      }
    },
    {
      "cell_type": "code",
      "source": [
        "agent.load('models/Q2_end.h5')\n",
        "test_agent(0, 0)"
      ],
      "metadata": {
        "id": "JrskWt0weDUo",
        "outputId": "48be0335-2d95-48f3-83e1-f66ebc2fca3e",
        "colab": {
          "base_uri": "https://localhost:8080/"
        }
      },
      "execution_count": null,
      "outputs": [
        {
          "output_type": "stream",
          "name": "stdout",
          "text": [
            "Solved: 96\n",
            "==============================\n",
            "defaultdict(<class 'int'>, {3: 25, 9: 2, 1: 21, 7: 4, 6: 10, 2: 11, 5: 15, 8: 3, 4: 3, 11: 2})\n",
            "******************************\n"
          ]
        },
        {
          "output_type": "execute_result",
          "data": {
            "text/plain": [
              "(96, 96)"
            ]
          },
          "metadata": {},
          "execution_count": 17
        }
      ]
    },
    {
      "cell_type": "code",
      "source": [
        "tests = [49, 65, 95]\n",
        "\n",
        "sok = init_sok(-100 + tests[0])\n",
        "sok.epsilon = 0\n",
        "agent.epsilon = 0\n",
        "start_time = time.time()\n",
        "done = False\n",
        "iter = 0\n",
        "video_filename = 'imageio.mp4'\n",
        "\n",
        "state = sok.get_image('rgb_array')\n",
        "\n",
        "with imageio.get_writer(video_filename, fps=3) as video:\n",
        "    video.append_data(sok.render(mode='rgb_array'))\n",
        "    while (iter < 10) or not done:\n",
        "        time_passed = int(time.time() - start_time)\n",
        "        if done or time_passed > 3:\n",
        "            break\n",
        "        iter +=1\n",
        "        action = agent.act(process_frame(state))\n",
        "\n",
        "        if action < 4:\n",
        "            action += 1\n",
        "        else:\n",
        "            action += 5\n",
        "\n",
        "        state, reward, done, info = sok.step(action)\n",
        "        video.append_data(sok.render(mode='rgb_array'))\n",
        "\n",
        "embed_mp4(video_filename)"
      ],
      "metadata": {
        "id": "YWgcjuc64qmv",
        "outputId": "06eafb5d-67c0-4aa9-8262-b8e4fff8ca04",
        "colab": {
          "base_uri": "https://localhost:8080/",
          "height": 502
        }
      },
      "execution_count": null,
      "outputs": [
        {
          "output_type": "execute_result",
          "data": {
            "text/plain": [
              "<IPython.core.display.HTML object>"
            ],
            "text/html": [
              "\n",
              "  <video width=\"640\" height=\"480\" controls>\n",
              "    <source src=\"data:video/mp4;base64,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\" type=\"video/mp4\">\n",
              "  Your browser does not support the video tag.\n",
              "  </video>"
            ]
          },
          "metadata": {},
          "execution_count": 18
        }
      ]
    },
    {
      "cell_type": "code",
      "source": [
        "sok = init_sok(-100 + tests[1])\n",
        "sok.epsilon = 0\n",
        "agent.epsilon = 0\n",
        "start_time = time.time()\n",
        "done = False\n",
        "iter = 0\n",
        "video_filename = 'imageio.mp4'\n",
        "\n",
        "state = sok.get_image('rgb_array')\n",
        "\n",
        "with imageio.get_writer(video_filename, fps=3) as video:\n",
        "    video.append_data(sok.render(mode='rgb_array'))\n",
        "    while (iter < 10) or not done:\n",
        "        time_passed = int(time.time() - start_time)\n",
        "        if done or time_passed > 3:\n",
        "            break\n",
        "        iter +=1\n",
        "        action = agent.act(process_frame(state))\n",
        "\n",
        "        if action < 4:\n",
        "            action += 1\n",
        "        else:\n",
        "            action += 5\n",
        "\n",
        "        state, reward, done, info = sok.step(action)\n",
        "        video.append_data(sok.render(mode='rgb_array'))\n",
        "\n",
        "embed_mp4(video_filename)"
      ],
      "metadata": {
        "id": "Lz4cmuWt4xRV",
        "outputId": "901a6e45-696e-4efd-fff8-5348247fc7d6",
        "colab": {
          "base_uri": "https://localhost:8080/",
          "height": 502
        }
      },
      "execution_count": null,
      "outputs": [
        {
          "output_type": "execute_result",
          "data": {
            "text/plain": [
              "<IPython.core.display.HTML object>"
            ],
            "text/html": [
              "\n",
              "  <video width=\"640\" height=\"480\" controls>\n",
              "    <source src=\"data:video/mp4;base64,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\" type=\"video/mp4\">\n",
              "  Your browser does not support the video tag.\n",
              "  </video>"
            ]
          },
          "metadata": {},
          "execution_count": 19
        }
      ]
    },
    {
      "cell_type": "code",
      "source": [
        "sok = init_sok(-100 + tests[2])\n",
        "sok.epsilon = 0\n",
        "agent.epsilon = 0\n",
        "start_time = time.time()\n",
        "done = False\n",
        "iter = 0\n",
        "video_filename = 'imageio.mp4'\n",
        "\n",
        "state = sok.get_image('rgb_array')\n",
        "\n",
        "with imageio.get_writer(video_filename, fps=3) as video:\n",
        "    video.append_data(sok.render(mode='rgb_array'))\n",
        "    while (iter < 10) or not done:\n",
        "        time_passed = int(time.time() - start_time)\n",
        "        if done or time_passed > 3:\n",
        "            break\n",
        "        iter +=1\n",
        "        action = agent.act(process_frame(state))\n",
        "\n",
        "        if action < 4:\n",
        "            action += 1\n",
        "        else:\n",
        "            action += 5\n",
        "\n",
        "        state, reward, done, info = sok.step(action)\n",
        "        video.append_data(sok.render(mode='rgb_array'))\n",
        "\n",
        "embed_mp4(video_filename)"
      ],
      "metadata": {
        "id": "dWqB2BSd45G4",
        "outputId": "ee179b4a-f87b-4a3c-96b9-d3146d392d17",
        "colab": {
          "base_uri": "https://localhost:8080/",
          "height": 502
        }
      },
      "execution_count": null,
      "outputs": [
        {
          "output_type": "execute_result",
          "data": {
            "text/plain": [
              "<IPython.core.display.HTML object>"
            ],
            "text/html": [
              "\n",
              "  <video width=\"640\" height=\"480\" controls>\n",
              "    <source src=\"data:video/mp4;base64,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\" type=\"video/mp4\">\n",
              "  Your browser does not support the video tag.\n",
              "  </video>"
            ]
          },
          "metadata": {},
          "execution_count": 20
        }
      ]
    },
    {
      "cell_type": "markdown",
      "source": [
        "### Training from scratch"
      ],
      "metadata": {
        "id": "5DbglCiRGfdI"
      }
    },
    {
      "cell_type": "code",
      "source": [
        "running_puzzles = 0\n",
        "running_solved = 0\n",
        "record = 0\n",
        "solved_tests = []\n",
        "\n",
        "for e in range(max_episodes):\n",
        "    sok = init_sok(e)\n",
        "    random.seed(e)\n",
        "    running_puzzles += 1\n",
        "\n",
        "    state = process_frame(sok.get_image('rgb_array'))\n",
        "    room_state = sok.room_state.copy()\n",
        "    distances = get_distances(room_state)\n",
        "\n",
        "    for step in range(sok.max_steps):\n",
        "        action = agent.act(state)\n",
        "        if action < 4:\n",
        "            next_state, reward, done, _ = sok.step(action+1)\n",
        "        else:\n",
        "            next_state, reward, done, _ = sok.step(action+5)\n",
        "\n",
        "        next_state = process_frame(next_state)\n",
        "        next_room_state = sok.room_state\n",
        "\n",
        "        if not done:\n",
        "            reward += box2target_change_reward(room_state, next_room_state, distances)\n",
        "\n",
        "        agent.remember(state, action, reward, next_state, done)\n",
        "\n",
        "        state = next_state.copy()\n",
        "        room_state = next_room_state.copy()\n",
        "\n",
        "        if (step+1) % agent.replay_rate == 0:\n",
        "            agent.replay()\n",
        "\n",
        "        if done:\n",
        "            if 3 in sok.room_state:\n",
        "                agent.copy_to_prioritized_buffer(step+1)\n",
        "                running_solved += 1\n",
        "\n",
        "            if (e+1) % 20 == 0 and e > 0:\n",
        "                print(f\"{running_solved} | {running_puzzles}\")\n",
        "\n",
        "                if (e+1) % 100 == 0:\n",
        "                    running_puzzles = 0\n",
        "                    running_solved = 0\n",
        "\n",
        "            break\n",
        "\n",
        "    if (e+1) % 100 == 0 and e > 0:\n",
        "        num_solved, record = test_agent(e, record, stochastic=False)\n",
        "        solved_tests.append(num_solved)"
      ],
      "metadata": {
        "id": "zv-_ZdrCTquQ"
      },
      "execution_count": null,
      "outputs": []
    },
    {
      "cell_type": "markdown",
      "source": [
        "## EX3 - PUSH & PULL - TWO BOXES"
      ],
      "metadata": {
        "id": "I-gRY9mtZ-6J"
      }
    },
    {
      "cell_type": "code",
      "source": [
        "#=============== DO NOT DELETE ===============\n",
        "sok_3 = PushAndPullSokobanEnv(dim_room=(7, 7),num_boxes=2 ,max_steps=500)\n",
        "# ============================================"
      ],
      "metadata": {
        "id": "mFbVwDqf9C62"
      },
      "execution_count": null,
      "outputs": []
    },
    {
      "cell_type": "code",
      "source": [
        "screen = sok_3.render(mode='rgb_array')\n",
        "plt.imshow(sok_3.render('rgb_array'))\n",
        "# print_env_det(sok_3)"
      ],
      "metadata": {
        "colab": {
          "base_uri": "https://localhost:8080/",
          "height": 286
        },
        "id": "eb1TWQqCaCf_",
        "outputId": "f2466929-72c6-45c6-bd85-a6eaf7fd0cc8"
      },
      "execution_count": null,
      "outputs": [
        {
          "output_type": "execute_result",
          "data": {
            "text/plain": [
              "<matplotlib.image.AxesImage at 0x7f70eacfc3d0>"
            ]
          },
          "metadata": {},
          "execution_count": 22
        },
        {
          "output_type": "display_data",
          "data": {
            "text/plain": [
              "<Figure size 432x288 with 1 Axes>"
            ],
            "image/png": "[encoded data removed]"
          },
          "metadata": {
            "needs_background": "light"
          }
        }
      ]
    },
    {
      "cell_type": "markdown",
      "source": [
        "## Utils"
      ],
      "metadata": {
        "id": "gziFa8V8UrjR"
      }
    },
    {
      "cell_type": "code",
      "source": [
        "def get_distances_for_target(room_state, target):\n",
        "    distances = np.zeros(shape=room_state.shape)\n",
        "    visited_cells = set()\n",
        "    cell_queue = deque()\n",
        "\n",
        "    visited_cells.add(target)\n",
        "    cell_queue.appendleft(target)\n",
        "\n",
        "    while len(cell_queue) != 0:\n",
        "        cell = cell_queue.pop()\n",
        "        distance = distances[cell[0]][cell[1]]\n",
        "        for x,y in ((1,0), (-1,-0), (0,1), (0,-1)):\n",
        "            next_cell_x, next_cell_y = cell[0]+x, cell[1]+y\n",
        "            if room_state[next_cell_x][next_cell_y] != 0 and not (next_cell_x, next_cell_y) in visited_cells:\n",
        "                distances[next_cell_x][next_cell_y] = distance + 1\n",
        "                visited_cells.add((next_cell_x, next_cell_y))\n",
        "                cell_queue.appendleft((next_cell_x, next_cell_y))\n",
        "\n",
        "    return distances\n",
        "\n",
        "def get_maze_info(room_state):\n",
        "    targets = []\n",
        "    for i in range(room_state.shape[0]):\n",
        "        for j in range(room_state.shape[1]):\n",
        "            if room_state[i][j] == 2:\n",
        "                targets.append((i, j))\n",
        "\n",
        "    distances0 = get_distances_for_target(room_state, targets[0])\n",
        "    distances1 = get_distances_for_target(room_state, targets[1])\n",
        "    common_distances = np.minimum(distances0, distances1)\n",
        "\n",
        "    maze_info = {}\n",
        "    maze_info['target0'] = targets[0]\n",
        "    maze_info['target1'] = targets[1]\n",
        "    maze_info['distances0'] = distances0\n",
        "    maze_info['distances1'] = distances1\n",
        "    maze_info['common_distances'] = common_distances\n",
        "    return maze_info\n",
        "\n",
        "def calc_distances(room_state, distances):\n",
        "    boxes = []\n",
        "    for i in range(room_state.shape[0]):\n",
        "        for j in range(room_state.shape[1]):\n",
        "            if room_state[i][j] == 4:\n",
        "                boxes.append((i,j))\n",
        "    if len(boxes) == 2:\n",
        "        return distances[boxes[0][0]][boxes[0][1]] + distances[boxes[1][0]][boxes[1][1]]\n",
        "\n",
        "    return distances[boxes[0][0]][boxes[0][1]]\n",
        "\n",
        "def box2target_change_reward(room_state, next_room_state, maze_info):\n",
        "    if np.array_equal(room_state, next_room_state):\n",
        "        return -5.0\n",
        "\n",
        "    target0 = maze_info['target0']\n",
        "    target1 = maze_info['target1']\n",
        "    distances0 = maze_info['distances0']\n",
        "    distances1 = maze_info['distances1']\n",
        "    common_distances = maze_info['common_distances']\n",
        "\n",
        "    relevant_distances = common_distances\n",
        "\n",
        "    if room_state[target0[0]][target0[1]] == 3:\n",
        "        relevant_distances = distances1\n",
        "    elif room_state[target1[0]][target1[1]] == 3:\n",
        "        relevant_distances = distances0\n",
        "\n",
        "    change_reward = 0.0\n",
        "    t2b = calc_distances(room_state, relevant_distances)\n",
        "    n_t2b = calc_distances(next_room_state, relevant_distances)\n",
        "    if n_t2b < t2b:\n",
        "        change_reward += 5.0\n",
        "    elif n_t2b > t2b:\n",
        "        change_reward -= 5.0\n",
        "\n",
        "    return change_reward"
      ],
      "metadata": {
        "id": "aMDCE_3yUTyh"
      },
      "execution_count": null,
      "outputs": []
    },
    {
      "cell_type": "markdown",
      "source": [
        "## Solution"
      ],
      "metadata": {
        "id": "2jokQFigUxgo"
      }
    },
    {
      "cell_type": "code",
      "source": [
        "class SOK_Agent:\n",
        "    def __init__(self):\n",
        "        # Construct DQN models\n",
        "        self.state_size = (112,112,1)\n",
        "        self.action_size = 8\n",
        "        self.model = self._build_model()\n",
        "        self.target_model = self._build_model()\n",
        "        self.target_model.set_weights(self.model.get_weights())\n",
        "        self.batch_size = 8\n",
        "\n",
        "        # Replay buffers\n",
        "        self.replay_buffer = deque(maxlen=5000)\n",
        "        self.prioritized_replay_buffer = deque(maxlen=1000)\n",
        "\n",
        "        # Hyperparameters\n",
        "        self.gamma = 0.9\n",
        "        self.epsilon = 1.0\n",
        "        self.epsilon_min = 0.2\n",
        "        self.epsilon_decay = 0.9995\n",
        "        self.replay_rate = 10\n",
        "        self.update_beta = 0.999\n",
        "\n",
        "        self.action_rotation_map = {\n",
        "            0: 2,\n",
        "            1: 3,\n",
        "            2: 1,\n",
        "            3: 0,\n",
        "            4: 6,\n",
        "            5: 7,\n",
        "            6: 5,\n",
        "            7: 4\n",
        "        }\n",
        "\n",
        "    def _build_model(self):\n",
        "        model = Sequential()\n",
        "        model.add(Conv2D(32, (16, 16), strides=(16, 16), input_shape=self.state_size, activation='relu'))\n",
        "        model.add(Conv2D(64, (3, 3), activation='relu'))\n",
        "        model.add(Conv2D(64, (3, 3), activation='relu'))\n",
        "        model.add(Flatten())\n",
        "        model.add(Dense(512, activation='relu'))\n",
        "        model.add(Dense(256, activation='relu'))\n",
        "        model.add(Dense(128, activation='relu'))\n",
        "        model.add(Dense(64, activation='relu'))\n",
        "        model.add(Dense(self.action_size, activation='linear'))\n",
        "\n",
        "        lr_schedule = ExponentialDecay(0.001, decay_steps=2000, decay_rate=0.99, staircase=False)\n",
        "        model.compile(optimizer=Adam(learning_rate=lr_schedule), loss='mse')\n",
        "        return model\n",
        "\n",
        "    def remember(self, state, action, reward, next_state, done):\n",
        "        self.replay_buffer.append([state, action, reward, next_state, done])\n",
        "\n",
        "    def copy_to_prioritized_buffer(self, n):\n",
        "        for i in range(n):\n",
        "            self.prioritized_replay_buffer.append(self.replay_buffer[-1-i])\n",
        "\n",
        "    def act(self, state, stochastic=False):\n",
        "        if np.random.rand() <= self.epsilon:\n",
        "            return random.randrange(self.action_size)\n",
        "\n",
        "        act_values = self.model.predict(state, verbose=0)[0]\n",
        "\n",
        "        if stochastic:\n",
        "            act_probs = np.exp(act_values)/np.exp(act_values).sum()\n",
        "            return np.random.choice(np.arange(self.action_size), size=1, p=act_probs)[0]\n",
        "\n",
        "        return np.argmax(act_values)\n",
        "\n",
        "    def replay(self):\n",
        "        if len(self.replay_buffer) < self.batch_size:\n",
        "            return\n",
        "\n",
        "        if len(self.prioritized_replay_buffer) < self.batch_size//2:\n",
        "            minibatch = random.sample(self.replay_buffer, self.batch_size)\n",
        "        else:\n",
        "            minibatch = random.sample(self.replay_buffer, self.batch_size//2)\n",
        "            minibatch.extend(random.sample(self.prioritized_replay_buffer, self.batch_size//2))\n",
        "\n",
        "        states = np.zeros((self.batch_size*4, self.state_size[0], self.state_size[1]))\n",
        "        actions = np.zeros(self.batch_size*4, dtype=int)\n",
        "        rewards = np.zeros(self.batch_size*4)\n",
        "        next_states = np.zeros((self.batch_size*4, self.state_size[0], self.state_size[1]))\n",
        "        statuses = np.zeros(self.batch_size*4)\n",
        "        targets = np.zeros((self.batch_size*4, self.action_size))\n",
        "\n",
        "        for i, (state, action, reward, next_state, done) in enumerate(minibatch):\n",
        "            for rot in range(4):\n",
        "                ind = i*4+rot\n",
        "                if rot != 0:\n",
        "                    state = np.rot90(state, axes=(1,2))\n",
        "                    next_state = np.rot90(next_state, axes=(1,2))\n",
        "                    action = self.action_rotation_map.get(action)\n",
        "\n",
        "                states[ind] = state.copy()\n",
        "                actions[ind] = action\n",
        "                rewards[ind] = reward\n",
        "                next_states[ind] = next_state.copy()\n",
        "                statuses[ind] = 1 if done else 0\n",
        "\n",
        "        targets = self.model.predict(states)\n",
        "        max_actions = np.argmax(self.model.predict(next_states), axis=1)\n",
        "        next_rewards = self.target_model.predict(next_states)\n",
        "\n",
        "        ind = 0\n",
        "        for action, reward, next_reward, max_action, done in zip(actions, rewards, next_rewards, max_actions, statuses):\n",
        "            if not done:\n",
        "                reward += self.gamma * next_reward[max_action]\n",
        "            targets[ind][action] = reward\n",
        "            ind += 1\n",
        "\n",
        "        self.model.fit(states, targets, epochs=10, verbose=0)\n",
        "\n",
        "        self.update_target_model()\n",
        "\n",
        "        if self.epsilon > self.epsilon_min:\n",
        "            self.epsilon = self.epsilon * self.epsilon_decay\n",
        "\n",
        "    def update_target_model(self):\n",
        "        model_w = self.model.get_weights()\n",
        "        target_model_w = self.target_model.get_weights()\n",
        "        updated_target_model_w = []\n",
        "        for i in range(len(model_w)):\n",
        "            updated_target_model_w.append(self.update_beta*target_model_w[i] + (1-self.update_beta)*model_w[i])\n",
        "        self.target_model.set_weights(updated_target_model_w)\n",
        "\n",
        "    def load(self, name):\n",
        "        self.model.load_weights(name)\n",
        "        self.target_model.load_weights(name)\n",
        "\n",
        "    def save(self, name):\n",
        "        self.model.save_weights(name)"
      ],
      "metadata": {
        "id": "lpuNT490UTwj"
      },
      "execution_count": null,
      "outputs": []
    },
    {
      "cell_type": "code",
      "source": [
        "def process_frame(frame):\n",
        "    f = frame.mean(axis=2)\n",
        "    f = f / 255\n",
        "    return np.expand_dims(f, axis=0)"
      ],
      "metadata": {
        "id": "GBAEDWixUTuT"
      },
      "execution_count": null,
      "outputs": []
    },
    {
      "cell_type": "markdown",
      "source": [
        "## Training and Testing"
      ],
      "metadata": {
        "id": "0cbC5Hj6U3rz"
      }
    },
    {
      "cell_type": "markdown",
      "source": [
        "#### Test Suite"
      ],
      "metadata": {
        "id": "NKmMP-iFU7zA"
      }
    },
    {
      "cell_type": "code",
      "source": [
        "agent = SOK_Agent()\n",
        "\n",
        "max_episodes = 50000\n",
        "max_steps = 30\n",
        "\n",
        "def init_sok(r):\n",
        "    random.seed(r)\n",
        "    sok = PushAndPullSokobanEnv(dim_room=(7, 7), num_boxes=2)\n",
        "    sok.set_maxsteps(max_steps)\n",
        "    return sok"
      ],
      "metadata": {
        "id": "rkomWZOwUTsP"
      },
      "execution_count": null,
      "outputs": []
    },
    {
      "cell_type": "code",
      "source": [
        "def test_agent(e, cur_record, stochastic=False):\n",
        "\n",
        "    current_epsilon = agent.epsilon\n",
        "    agent.epsilon = 0.0\n",
        "    num_solved = 0\n",
        "    solved_in_steps = defaultdict(int)\n",
        "\n",
        "    for t in range(100):\n",
        "        sok = init_sok(t)\n",
        "        sok.set_maxsteps(max_steps)\n",
        "        steps = 0\n",
        "\n",
        "        state = sok.get_image('rgb_array')\n",
        "        done = False\n",
        "        while not done:\n",
        "            steps += 1\n",
        "            action = agent.act(process_frame(state), stochastic)\n",
        "            if action < 4:\n",
        "                action += 1\n",
        "            else:\n",
        "                action += 5\n",
        "            state, reward, done, info = sok.step(action)\n",
        "\n",
        "        if sok.boxes_on_target == 2:\n",
        "            num_solved += 1\n",
        "            solved_in_steps[steps] += 1\n",
        "\n",
        "    agent.epsilon = current_epsilon\n",
        "\n",
        "    if num_solved > cur_record:\n",
        "       agent.save(f\"models/Q3_{num_solved}_{e}.h5\")\n",
        "       cur_record = num_solved\n",
        "\n",
        "    print(\"Solved: %d\" % num_solved)\n",
        "    print(\"=\" * 30)\n",
        "    print(solved_in_steps)\n",
        "    print(\"*\" * 30)\n",
        "\n",
        "    return num_solved, cur_record"
      ],
      "metadata": {
        "id": "mL88EdCaUTqf"
      },
      "execution_count": null,
      "outputs": []
    },
    {
      "cell_type": "markdown",
      "source": [
        "### Testing our learned models"
      ],
      "metadata": {
        "id": "0NEOU4nvHZlA"
      }
    },
    {
      "cell_type": "markdown",
      "source": [
        "#### In the middle"
      ],
      "metadata": {
        "id": "PcHbP-NbHc2T"
      }
    },
    {
      "cell_type": "code",
      "source": [
        "agent.load('models/Q3_half.h5')\n",
        "test_agent(0, 0)"
      ],
      "metadata": {
        "id": "2FmTeK3soYTx",
        "outputId": "f8101883-1d6f-4678-f388-cadd3e82d11d",
        "colab": {
          "base_uri": "https://localhost:8080/"
        }
      },
      "execution_count": null,
      "outputs": [
        {
          "output_type": "stream",
          "name": "stdout",
          "text": [
            "[SOKOBAN] Runtime Error/Warning: Not enough free spots (#3) to place 1 player and 2 boxes.\n",
            "[SOKOBAN] Retry . . .\n",
            "Solved: 21\n",
            "==============================\n",
            "defaultdict(<class 'int'>, {5: 2, 4: 8, 3: 7, 6: 4})\n",
            "******************************\n"
          ]
        },
        {
          "output_type": "execute_result",
          "data": {
            "text/plain": [
              "(21, 21)"
            ]
          },
          "metadata": {},
          "execution_count": 28
        }
      ]
    },
    {
      "cell_type": "code",
      "source": [
        "tests = [0, 3, 15, 89]\n",
        "\n",
        "sok = init_sok(-100 + tests[0])\n",
        "sok.epsilon = 0\n",
        "agent.epsilon = 0\n",
        "start_time = time.time()\n",
        "done = False\n",
        "iter = 0\n",
        "video_filename = 'imageio.mp4'\n",
        "\n",
        "state = sok.get_image('rgb_array')\n",
        "\n",
        "with imageio.get_writer(video_filename, fps=3) as video:\n",
        "    video.append_data(sok.render(mode='rgb_array'))\n",
        "    while (iter < 10) or not done:\n",
        "        time_passed = int(time.time() - start_time)\n",
        "        if done or time_passed > 3:\n",
        "            break\n",
        "        iter +=1\n",
        "        action = agent.act(process_frame(state))\n",
        "\n",
        "        if action < 4:\n",
        "            action += 1\n",
        "        else:\n",
        "            action += 5\n",
        "\n",
        "        state, reward, done, info = sok.step(action)\n",
        "        video.append_data(sok.render(mode='rgb_array'))\n",
        "\n",
        "embed_mp4(video_filename)"
      ],
      "metadata": {
        "id": "0iRAFVkiImoQ",
        "outputId": "e4f9da52-9d05-4861-bd23-ef50f1c4c82d",
        "colab": {
          "base_uri": "https://localhost:8080/",
          "height": 502
        }
      },
      "execution_count": null,
      "outputs": [
        {
          "output_type": "execute_result",
          "data": {
            "text/plain": [
              "<IPython.core.display.HTML object>"
            ],
            "text/html": [
              "\n",
              "  <video width=\"640\" height=\"480\" controls>\n",
              "    <source src=\"data:video/mp4;base64,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\" type=\"video/mp4\">\n",
              "  Your browser does not support the video tag.\n",
              "  </video>"
            ]
          },
          "metadata": {},
          "execution_count": 29
        }
      ]
    },
    {
      "cell_type": "code",
      "source": [
        "sok = init_sok(-100 + tests[1])\n",
        "sok.epsilon = 0\n",
        "agent.epsilon = 0\n",
        "start_time = time.time()\n",
        "done = False\n",
        "iter = 0\n",
        "video_filename = 'imageio.mp4'\n",
        "\n",
        "state = sok.get_image('rgb_array')\n",
        "\n",
        "with imageio.get_writer(video_filename, fps=3) as video:\n",
        "    video.append_data(sok.render(mode='rgb_array'))\n",
        "    while (iter < 10) or not done:\n",
        "        time_passed = int(time.time() - start_time)\n",
        "        if done or time_passed > 3:\n",
        "            break\n",
        "        iter +=1\n",
        "        action = agent.act(process_frame(state))\n",
        "\n",
        "        if action < 4:\n",
        "            action += 1\n",
        "        else:\n",
        "            action += 5\n",
        "\n",
        "        state, reward, done, info = sok.step(action)\n",
        "        video.append_data(sok.render(mode='rgb_array'))\n",
        "\n",
        "embed_mp4(video_filename)"
      ],
      "metadata": {
        "id": "CDjTn7vULEaC",
        "outputId": "6f5a4271-9b50-4259-b346-b62bc018cca9",
        "colab": {
          "base_uri": "https://localhost:8080/",
          "height": 502
        }
      },
      "execution_count": null,
      "outputs": [
        {
          "output_type": "execute_result",
          "data": {
            "text/plain": [
              "<IPython.core.display.HTML object>"
            ],
            "text/html": [
              "\n",
              "  <video width=\"640\" height=\"480\" controls>\n",
              "    <source src=\"data:video/mp4;base64,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\" type=\"video/mp4\">\n",
              "  Your browser does not support the video tag.\n",
              "  </video>"
            ]
          },
          "metadata": {},
          "execution_count": 30
        }
      ]
    },
    {
      "cell_type": "code",
      "source": [
        "sok = init_sok(-100 + tests[2])\n",
        "sok.epsilon = 0\n",
        "agent.epsilon = 0\n",
        "start_time = time.time()\n",
        "done = False\n",
        "iter = 0\n",
        "video_filename = 'imageio.mp4'\n",
        "\n",
        "state = sok.get_image('rgb_array')\n",
        "\n",
        "with imageio.get_writer(video_filename, fps=3) as video:\n",
        "    video.append_data(sok.render(mode='rgb_array'))\n",
        "    while (iter < 10) or not done:\n",
        "        time_passed = int(time.time() - start_time)\n",
        "        if done or time_passed > 3:\n",
        "            break\n",
        "        iter +=1\n",
        "        action = agent.act(process_frame(state))\n",
        "\n",
        "        if action < 4:\n",
        "            action += 1\n",
        "        else:\n",
        "            action += 5\n",
        "\n",
        "        state, reward, done, info = sok.step(action)\n",
        "        video.append_data(sok.render(mode='rgb_array'))\n",
        "\n",
        "embed_mp4(video_filename)"
      ],
      "metadata": {
        "id": "sOs1nlqkLE4-",
        "outputId": "7adc03d3-dcb8-40a5-9612-65284477d1ed",
        "colab": {
          "base_uri": "https://localhost:8080/",
          "height": 502
        }
      },
      "execution_count": null,
      "outputs": [
        {
          "output_type": "execute_result",
          "data": {
            "text/plain": [
              "<IPython.core.display.HTML object>"
            ],
            "text/html": [
              "\n",
              "  <video width=\"640\" height=\"480\" controls>\n",
              "    <source src=\"data:video/mp4;base64,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\" type=\"video/mp4\">\n",
              "  Your browser does not support the video tag.\n",
              "  </video>"
            ]
          },
          "metadata": {},
          "execution_count": 31
        }
      ]
    },
    {
      "cell_type": "markdown",
      "source": [
        "#### At the end"
      ],
      "metadata": {
        "id": "Gz_pYC8VHfQT"
      }
    },
    {
      "cell_type": "code",
      "source": [
        "agent.load('models/Q3_end.h5')\n",
        "test_agent(0, 0)"
      ],
      "metadata": {
        "id": "8ObhBxNW5Uz5",
        "outputId": "6bd8718d-f9b9-4384-90b9-d06f81ea2662",
        "colab": {
          "base_uri": "https://localhost:8080/"
        }
      },
      "execution_count": null,
      "outputs": [
        {
          "output_type": "stream",
          "name": "stdout",
          "text": [
            "[SOKOBAN] Runtime Error/Warning: Not enough free spots (#3) to place 1 player and 2 boxes.\n",
            "[SOKOBAN] Retry . . .\n",
            "Solved: 73\n",
            "==============================\n",
            "defaultdict(<class 'int'>, {11: 2, 6: 12, 5: 5, 10: 8, 4: 10, 14: 2, 16: 1, 12: 4, 3: 8, 7: 5, 13: 2, 25: 1, 9: 7, 8: 3, 15: 2, 18: 1})\n",
            "******************************\n"
          ]
        },
        {
          "output_type": "execute_result",
          "data": {
            "text/plain": [
              "(73, 73)"
            ]
          },
          "metadata": {},
          "execution_count": 32
        }
      ]
    },
    {
      "cell_type": "code",
      "source": [
        "tests = [0, 3, 15, 89]\n",
        "\n",
        "sok = init_sok(-100 + tests[0])\n",
        "sok.epsilon = 0\n",
        "agent.epsilon = 0\n",
        "start_time = time.time()\n",
        "done = False\n",
        "iter = 0\n",
        "video_filename = 'imageio.mp4'\n",
        "\n",
        "state = sok.get_image('rgb_array')\n",
        "\n",
        "with imageio.get_writer(video_filename, fps=3) as video:\n",
        "    video.append_data(sok.render(mode='rgb_array'))\n",
        "    while (iter < 10) or not done:\n",
        "        time_passed = int(time.time() - start_time)\n",
        "        if done or time_passed > 3:\n",
        "            break\n",
        "        iter +=1\n",
        "        action = agent.act(process_frame(state))\n",
        "\n",
        "        if action < 4:\n",
        "            action += 1\n",
        "        else:\n",
        "            action += 5\n",
        "\n",
        "        state, reward, done, info = sok.step(action)\n",
        "        video.append_data(sok.render(mode='rgb_array'))\n",
        "\n",
        "embed_mp4(video_filename)"
      ],
      "metadata": {
        "id": "-s0OcEPPI7nj",
        "outputId": "5491eae6-9bdc-4262-b4a7-334dde5db9a6",
        "colab": {
          "base_uri": "https://localhost:8080/",
          "height": 502
        }
      },
      "execution_count": null,
      "outputs": [
        {
          "output_type": "execute_result",
          "data": {
            "text/plain": [
              "<IPython.core.display.HTML object>"
            ],
            "text/html": [
              "\n",
              "  <video width=\"640\" height=\"480\" controls>\n",
              "    <source src=\"data:video/mp4;base64,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\" type=\"video/mp4\">\n",
              "  Your browser does not support the video tag.\n",
              "  </video>"
            ]
          },
          "metadata": {},
          "execution_count": 33
        }
      ]
    },
    {
      "cell_type": "code",
      "source": [
        "sok = init_sok(-100 + tests[1])\n",
        "sok.epsilon = 0\n",
        "agent.epsilon = 0\n",
        "start_time = time.time()\n",
        "done = False\n",
        "iter = 0\n",
        "video_filename = 'imageio.mp4'\n",
        "\n",
        "state = sok.get_image('rgb_array')\n",
        "\n",
        "with imageio.get_writer(video_filename, fps=3) as video:\n",
        "    video.append_data(sok.render(mode='rgb_array'))\n",
        "    while (iter < 10) or not done:\n",
        "        time_passed = int(time.time() - start_time)\n",
        "        if done or time_passed > 3:\n",
        "            break\n",
        "        iter +=1\n",
        "        action = agent.act(process_frame(state))\n",
        "\n",
        "        if action < 4:\n",
        "            action += 1\n",
        "        else:\n",
        "            action += 5\n",
        "\n",
        "        state, reward, done, info = sok.step(action)\n",
        "        video.append_data(sok.render(mode='rgb_array'))\n",
        "\n",
        "embed_mp4(video_filename)"
      ],
      "metadata": {
        "id": "JhPumjVUJAdY",
        "outputId": "765e7378-9274-4217-eb75-a4e90be803b1",
        "colab": {
          "base_uri": "https://localhost:8080/",
          "height": 502
        }
      },
      "execution_count": null,
      "outputs": [
        {
          "output_type": "execute_result",
          "data": {
            "text/plain": [
              "<IPython.core.display.HTML object>"
            ],
            "text/html": [
              "\n",
              "  <video width=\"640\" height=\"480\" controls>\n",
              "    <source src=\"data:video/mp4;base64,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\" type=\"video/mp4\">\n",
              "  Your browser does not support the video tag.\n",
              "  </video>"
            ]
          },
          "metadata": {},
          "execution_count": 34
        }
      ]
    },
    {
      "cell_type": "code",
      "source": [
        "sok = init_sok(-100 + tests[2])\n",
        "sok.epsilon = 0\n",
        "agent.epsilon = 0\n",
        "start_time = time.time()\n",
        "done = False\n",
        "iter = 0\n",
        "video_filename = 'imageio.mp4'\n",
        "\n",
        "state = sok.get_image('rgb_array')\n",
        "\n",
        "with imageio.get_writer(video_filename, fps=3) as video:\n",
        "    video.append_data(sok.render(mode='rgb_array'))\n",
        "    while (iter < 10) or not done:\n",
        "        time_passed = int(time.time() - start_time)\n",
        "        if done or time_passed > 3:\n",
        "            break\n",
        "        iter +=1\n",
        "        action = agent.act(process_frame(state))\n",
        "\n",
        "        if action < 4:\n",
        "            action += 1\n",
        "        else:\n",
        "            action += 5\n",
        "\n",
        "        state, reward, done, info = sok.step(action)\n",
        "        video.append_data(sok.render(mode='rgb_array'))\n",
        "\n",
        "embed_mp4(video_filename)"
      ],
      "metadata": {
        "id": "5zbCndwiJBox",
        "outputId": "013408a3-3f35-4972-b7c4-fabebb879018",
        "colab": {
          "base_uri": "https://localhost:8080/",
          "height": 502
        }
      },
      "execution_count": null,
      "outputs": [
        {
          "output_type": "execute_result",
          "data": {
            "text/plain": [
              "<IPython.core.display.HTML object>"
            ],
            "text/html": [
              "\n",
              "  <video width=\"640\" height=\"480\" controls>\n",
              "    <source src=\"data:video/mp4;base64,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\" type=\"video/mp4\">\n",
              "  Your browser does not support the video tag.\n",
              "  </video>"
            ]
          },
          "metadata": {},
          "execution_count": 35
        }
      ]
    },
    {
      "cell_type": "markdown",
      "source": [
        "### Training from scratch"
      ],
      "metadata": {
        "id": "JrwCGDV1Hz8S"
      }
    },
    {
      "cell_type": "code",
      "source": [
        "running_puzzles = 0\n",
        "running_solved = 0\n",
        "solved_in_train = []\n",
        "solved_in_test = []\n",
        "test_record = 0\n",
        "\n",
        "for e in range(max_episodes):\n",
        "    sok = init_sok(e+100)\n",
        "    random.seed(e)\n",
        "    running_puzzles += 1\n",
        "\n",
        "    state = process_frame(sok.get_image('rgb_array'))\n",
        "    room_state = sok.room_state.copy()\n",
        "    maze_info = get_maze_info(room_state)\n",
        "\n",
        "    for step in range(sok.max_steps):\n",
        "        action = agent.act(state, stochastic=True)\n",
        "        if action < 4:\n",
        "            next_state, reward, done, _ = sok.step(action+1)\n",
        "        else:\n",
        "            next_state, reward, done, _ = sok.step(action+5)\n",
        "\n",
        "        next_state = process_frame(next_state)\n",
        "        next_room_state = sok.room_state\n",
        "\n",
        "        if not done:\n",
        "            reward += box2target_change_reward(room_state, next_room_state, maze_info)\n",
        "\n",
        "        agent.remember(state, action, reward, next_state, done)\n",
        "\n",
        "        state = next_state.copy()\n",
        "        room_state = next_room_state.copy()\n",
        "\n",
        "        if e >= 200 and (step+1) % agent.replay_rate == 0:\n",
        "            agent.replay()\n",
        "\n",
        "        if done:\n",
        "            if sok.boxes_on_target == 2:\n",
        "                agent.copy_to_prioritized_buffer(step+1)\n",
        "                running_solved += 1\n",
        "\n",
        "            if (e+1) % 10 == 0 and e > 0:\n",
        "                print(f\"{running_solved} | {running_puzzles}\")\n",
        "\n",
        "                if (e+1) % 100 == 0:\n",
        "                    solved_in_train.append(running_solved)\n",
        "                    running_puzzles = 0\n",
        "                    running_solved = 0\n",
        "\n",
        "            break\n",
        "\n",
        "    if (e+1) % 100 == 0 and e > 0:\n",
        "        solved_tests, test_record = test_agent(e, test_record, stochastic=False)\n",
        "        solved_in_test.append(solved_tests)"
      ],
      "metadata": {
        "id": "Q76VtlNvUTnR"
      },
      "execution_count": null,
      "outputs": []
    },
    {
      "cell_type": "code",
      "source": [],
      "metadata": {
        "id": "CqVgQv-kn0yQ"
      },
      "execution_count": null,
      "outputs": []
    }
  ],
  "metadata": {
    "colab": {
      "provenance": []
    },
    "kernelspec": {
      "display_name": "Python 3",
      "name": "python3"
    }
  },
  "nbformat": 4,
  "nbformat_minor": 0
}