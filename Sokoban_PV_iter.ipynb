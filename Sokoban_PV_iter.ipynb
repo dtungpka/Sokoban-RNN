{
 "cells": [
  {
   "cell_type": "code",
   "execution_count": 2,
   "metadata": {},
   "outputs": [],
   "source": [
    "import gym\n",
    "import gym_sokoban\n",
    "import time\n",
    "import datetime as dt\n",
    "import matplotlib.pyplot as plt\n",
    "import math\n",
    "from collections import deque\n",
    "import random\n",
    "import numpy as np\n",
    "import pickle\n",
    "import sys\n",
    "import tqdm\n",
    "import os\n",
    "from collections import namedtuple,defaultdict,deque "
   ]
  },
  {
   "cell_type": "code",
   "execution_count": 3,
   "metadata": {},
   "outputs": [
    {
     "name": "stdout",
     "output_type": "stream",
     "text": [
      "Created environment: Sokoban-v1\n",
      "Loading file: P_first_100_episodes.bin\n",
      "Loaded file: P_first_100_episodes.bin\n"
     ]
    }
   ],
   "source": [
    "chapter = 0\n",
    "level = 0\n",
    "\n",
    "\n",
    "env_name = 'Sokoban-v1'\n",
    "env = gym.make(env_name)\n",
    "ACTION_LOOKUP = env.unwrapped.get_action_lookup()\n",
    "env.unwrapped.set_level(chapter,level)\n",
    "env.seed(0)\n",
    "env.reset()\n",
    "print(\"Created environment: {}\".format(env_name))\n",
    "\n",
    "folder = 'Results/Chapter '+str(chapter)+'/Level '+str(level)\n",
    "#create Results/Chapter [chapter]/Level [level] folder\n",
    "if not os.path.exists(folder):\n",
    "    print(\"No data found for this level\")\n",
    "#loop and find the latest file with 'P_' in the name, prefer the file with not 'temp' in the name\n",
    "else:\n",
    "    files = os.listdir(folder)\n",
    "    files = [f for f in files if 'P_' in f]\n",
    "    files = [f for f in files if 'temp' not in f]\n",
    "    if len(files) == 0:\n",
    "        print(\"No data found for this level\")\n",
    "    else:\n",
    "        files.sort(key=lambda x: os.path.getmtime(os.path.join(folder, x)))\n",
    "        file = files[-1]\n",
    "        print(\"Loading file: {}\".format(file))\n",
    "        with open(folder+'/'+file,'rb') as f:\n",
    "            P = pickle.load(f)\n",
    "        print(\"Loaded file: {}\".format(file))\n",
    "\n"
   ]
  },
  {
   "cell_type": "markdown",
   "metadata": {},
   "source": [
    "#### Value iteration"
   ]
  },
  {
   "cell_type": "code",
   "execution_count": 27,
   "metadata": {},
   "outputs": [
    {
     "name": "stdout",
     "output_type": "stream",
     "text": [
      "[0.00464828 0.         0.55361469 0.17148183 0.27025521]                             "
     ]
    },
    {
     "name": "stderr",
     "output_type": "stream",
     "text": [
      "Exception ignored in: <function Texture.__del__ at 0x000001F24B80D550>\n",
      "Traceback (most recent call last):\n",
      "  File \"d:\\2023-2024\\RNN\\Sokoban\\SokobanEnv\\lib\\site-packages\\pyglet\\image\\__init__.py\", line 1225, in __del__\n",
      "    self._context.delete_texture(self.id)\n",
      "  File \"d:\\2023-2024\\RNN\\Sokoban\\SokobanEnv\\lib\\site-packages\\pyglet\\gl\\base.py\", line 321, in delete_texture\n",
      "    gl.glDeleteTextures(1, gl.GLuint(texture_id))\n",
      "  File \"d:\\2023-2024\\RNN\\Sokoban\\SokobanEnv\\lib\\site-packages\\pyglet\\gl\\lib.py\", line 52, in errcheck\n",
      "    def errcheck(result, func, arguments):\n",
      "KeyboardInterrupt: \n"
     ]
    },
    {
     "name": "stdout",
     "output_type": "stream",
     "text": [
      "[0.07611979 0.05442995 0.         0.79665105 0.07279921]                             "
     ]
    }
   ],
   "source": [
    "def policy_pi(P,s):\n",
    "    #.9 prob of greedy action\n",
    "    #.1 prob of random action\n",
    "    prob = []\n",
    "    for a in P[s]:\n",
    "        prob.append(P[s][a][1])\n",
    "    prob = np.array(prob)\n",
    "    print(f'\\r{prob}',end='                             ')\n",
    "    return np.random.choice(list(P[s].keys()),p=prob)\n",
    "\n",
    "for i in range(1000):\n",
    "    time.sleep(.01)\n",
    "    _ = env.reset()\n",
    "    state = env.unwrapped.serialize_state()\n",
    "    st_time = time.time()\n",
    "    done = False\n",
    "    t= 0\n",
    "    last_reward = 0\n",
    "    last_time = time.time()\n",
    "    last_state = state\n",
    "    rendered_frame = 0\n",
    "    while True:\n",
    "        if time.time() - st_time < .3:\n",
    "            env.render()\n",
    "            rendered_frame += 1\n",
    "            time.sleep(1/64)\n",
    "        st_time = time.time()\n",
    "        action_time = time.time()\n",
    "        action = policy_pi(P,state)\n",
    "        \n",
    "        state, reward, done, info = env.step(action)\n",
    "        state = env.unwrapped.serialize_state()\n",
    "        #print(f'{ACTION_LOOKUP[action]} state change: {last_state != state}',end=' ')\n",
    "        last_state = state\n",
    "        last_reward = reward\n",
    "        t += 1\n",
    "        if done or t > 150:\n",
    "            env.render()\n",
    "            break\n",
    "        env.render()"
   ]
  },
  {
   "cell_type": "code",
   "execution_count": 5,
   "metadata": {},
   "outputs": [
    {
     "name": "stdout",
     "output_type": "stream",
     "text": [
      "FPS: 29666  0.16027528 0.17306165 0.         0.48089647]                             "
     ]
    },
    {
     "ename": "KeyboardInterrupt",
     "evalue": "",
     "output_type": "error",
     "traceback": [
      "\u001b[1;31m---------------------------------------------------------------------------\u001b[0m",
      "\u001b[1;31mKeyboardInterrupt\u001b[0m                         Traceback (most recent call last)",
      "\u001b[1;32md:\\2023-2024\\RNN\\Sokoban\\Sokoban_PV_iter.ipynb Cell 5\u001b[0m line \u001b[0;36m3\n\u001b[0;32m     <a href='vscode-notebook-cell:/d%3A/2023-2024/RNN/Sokoban/Sokoban_PV_iter.ipynb#W5sZmlsZQ%3D%3D?line=27'>28</a>\u001b[0m env\u001b[39m.\u001b[39mrender()\n\u001b[0;32m     <a href='vscode-notebook-cell:/d%3A/2023-2024/RNN/Sokoban/Sokoban_PV_iter.ipynb#W5sZmlsZQ%3D%3D?line=28'>29</a>\u001b[0m rendered_frame \u001b[39m+\u001b[39m\u001b[39m=\u001b[39m \u001b[39m1\u001b[39m\n\u001b[1;32m---> <a href='vscode-notebook-cell:/d%3A/2023-2024/RNN/Sokoban/Sokoban_PV_iter.ipynb#W5sZmlsZQ%3D%3D?line=29'>30</a>\u001b[0m time\u001b[39m.\u001b[39;49msleep(\u001b[39m1\u001b[39;49m\u001b[39m/\u001b[39;49m\u001b[39m64\u001b[39;49m)\n\u001b[0;32m     <a href='vscode-notebook-cell:/d%3A/2023-2024/RNN/Sokoban/Sokoban_PV_iter.ipynb#W5sZmlsZQ%3D%3D?line=30'>31</a>\u001b[0m \u001b[39mif\u001b[39;00m (time\u001b[39m.\u001b[39mtime() \u001b[39m-\u001b[39m last_time) \u001b[39m>\u001b[39m \u001b[39m1\u001b[39m:\n\u001b[0;32m     <a href='vscode-notebook-cell:/d%3A/2023-2024/RNN/Sokoban/Sokoban_PV_iter.ipynb#W5sZmlsZQ%3D%3D?line=31'>32</a>\u001b[0m     \u001b[39mprint\u001b[39m(\u001b[39mf\u001b[39m\u001b[39m'\u001b[39m\u001b[39m\\r\u001b[39;00m\u001b[39mFPS: \u001b[39m\u001b[39m{\u001b[39;00mrendered_frame\u001b[39m}\u001b[39;00m\u001b[39m'\u001b[39m,end\u001b[39m=\u001b[39m\u001b[39m'\u001b[39m\u001b[39m'\u001b[39m)\n",
      "\u001b[1;31mKeyboardInterrupt\u001b[0m: "
     ]
    }
   ],
   "source": [
    "def greedy_policy_pi(P,s):\n",
    "    #.9 prob of greedy action\n",
    "    #.1 prob of random action\n",
    "    r_choice = .2\n",
    "    if np.random.random() < r_choice:\n",
    "        return np.random.choice(np.arange(env.action_space.n))\n",
    "    else:\n",
    "        prob = []\n",
    "        for a in P[s]:\n",
    "            prob.append(P[s][a][1])\n",
    "        prob = np.array(prob)\n",
    "        print(f'\\r{prob}',end='                             ')\n",
    "        return np.random.choice(list(P[s].keys()),p=prob)\n",
    "\n",
    "for i in range(1000):\n",
    "    time.sleep(.1)\n",
    "    _ = env.reset()\n",
    "    state = env.unwrapped.serialize_state()\n",
    "    st_time = time.time()\n",
    "    done = False\n",
    "    t= 0\n",
    "    last_reward = 0\n",
    "    last_time = time.time()\n",
    "    last_state = state\n",
    "    rendered_frame = 0\n",
    "    while True:\n",
    "        if time.time() - st_time < .2:\n",
    "            env.render()\n",
    "            rendered_frame += 1\n",
    "            time.sleep(1/64)\n",
    "            if (time.time() - last_time) > 1:\n",
    "                print(f'\\rFPS: {rendered_frame}',end='')\n",
    "                rendered_frame = 0\n",
    "                last_time = time.time()\n",
    "            continue\n",
    "        st_time = time.time()\n",
    "        action_time = time.time()\n",
    "        action = greedy_policy_pi(P,state)\n",
    "        \n",
    "        state, reward, done, info = env.step(action)\n",
    "        state = env.unwrapped.serialize_state()\n",
    "        #print(f'{ACTION_LOOKUP[action]} state change: {last_state != state}',end=' ')\n",
    "        last_state = state\n",
    "        last_reward = reward\n",
    "        t += 1\n",
    "        if done or t > 150:\n",
    "            env.render()\n",
    "            break\n",
    "        env.render()"
   ]
  }
 ],
 "metadata": {
  "kernelspec": {
   "display_name": "SokobanEnv",
   "language": "python",
   "name": "python3"
  },
  "language_info": {
   "codemirror_mode": {
    "name": "ipython",
    "version": 3
   },
   "file_extension": ".py",
   "mimetype": "text/x-python",
   "name": "python",
   "nbconvert_exporter": "python",
   "pygments_lexer": "ipython3",
   "version": "3.9.13"
  }
 },
 "nbformat": 4,
 "nbformat_minor": 2
}
