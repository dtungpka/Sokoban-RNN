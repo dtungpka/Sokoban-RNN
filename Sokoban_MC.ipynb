{
 "cells": [
  {
   "cell_type": "code",
   "execution_count": 1,
   "metadata": {},
   "outputs": [],
   "source": [
    "import gym\n",
    "import gym_sokoban\n",
    "import time\n",
    "import datetime as dt\n",
    "import matplotlib.pyplot as plt\n",
    "import math\n",
    "from collections import deque\n",
    "import random\n",
    "import numpy as np\n",
    "import pickle\n",
    "import sys\n",
    "import os\n",
    "from collections import namedtuple,defaultdict,deque "
   ]
  },
  {
   "cell_type": "code",
   "execution_count": 2,
   "metadata": {},
   "outputs": [
    {
     "name": "stdout",
     "output_type": "stream",
     "text": [
      "Created environment: Sokoban-v1\n"
     ]
    }
   ],
   "source": [
    "env_name = 'Sokoban-v1'\n",
    "env = gym.make(env_name)\n",
    "ACTION_LOOKUP = env.unwrapped.get_action_lookup()\n",
    "env.unwrapped.set_level(0,1)\n",
    "env.seed(0)\n",
    "env.reset()\n",
    "print(\"Created environment: {}\".format(env_name))"
   ]
  },
  {
   "cell_type": "code",
   "execution_count": 3,
   "metadata": {},
   "outputs": [],
   "source": [
    "def greedy_policy(V,s):\n",
    "    #.9 prob of greedy action\n",
    "    #.1 prob of random action\n",
    "\n",
    "    if s not in V:\n",
    "        V[s] = np.zeros(env.action_space.n)\n",
    "    r_choice = .1\n",
    "    if np.random.random() < r_choice:\n",
    "        return np.random.choice(np.arange(env.action_space.n))\n",
    "    else:\n",
    "        max_val = np.max(V[s])\n",
    "         #find all actions that have the max value and choose one at random\n",
    "        max_actions = np.argwhere(V[s] == max_val).flatten()\n",
    "        return np.random.choice(max_actions)\n",
    "def print_time(ep_start,action_time):\n",
    "    delta_1 = time.time() - ep_start\n",
    "    delta_2 = time.time() - action_time\n",
    "    st_del2 = str(dt.timedelta(seconds=delta_2))\n",
    "    print(\"\\rEpisode time: {} eps/s Action time: {}\".format(int(1/(delta_1+.0001)),st_del2),end=\"\")"
   ]
  },
  {
   "cell_type": "code",
   "execution_count": 4,
   "metadata": {},
   "outputs": [
    {
     "name": "stdout",
     "output_type": "stream",
     "text": [
      "Episode time: 9 eps/s Action time: 0:00:00  Episode: 299                  "
     ]
    }
   ],
   "source": [
    "EVERY_VISIT_MC = False\n",
    "EPISODES = 300\n",
    "\n",
    "V = {}\n",
    "total_returns = {}\n",
    "N = {}\n",
    "for episode in range(EPISODES):\n",
    "    ep_start = time.time()\n",
    "    \n",
    "    visited = []\n",
    "    env.reset()\n",
    "    state = env.unwrapped.serialize_state()\n",
    "    done = False\n",
    "    for t in range(1000):\n",
    "        action_time = time.time()\n",
    "        if done:\n",
    "            break\n",
    "        action = greedy_policy(V,state)\n",
    "        next_state, reward, done, info = env.step(action)\n",
    "        next_state = env.unwrapped.serialize_state()\n",
    "        if EVERY_VISIT_MC or (not EVERY_VISIT_MC and state not in visited):\n",
    "            if not EVERY_VISIT_MC:\n",
    "                visited.append(state)\n",
    "            if state not in total_returns:\n",
    "                total_returns[state] = np.zeros(env.action_space.n)\n",
    "            for _state in total_returns:\n",
    "                total_returns[_state][action] += reward\n",
    "            if state not in N:\n",
    "                N[state] = np.zeros(env.action_space.n)\n",
    "            \n",
    "            N[state][action] += 1\n",
    "            V[state][action] = total_returns[state][action] / N[state][action]\n",
    "        state = next_state\n",
    "        print_time(ep_start,action_time)\n",
    "        print(\"  Episode: {}\".format(episode),end=\"         \")\n",
    "\n",
    "            \n",
    "#save the value function\n",
    "with open('value_function_1.pickle', 'wb') as handle:\n",
    "    pickle.dump(V, handle, protocol=pickle.HIGHEST_PROTOCOL)\n",
    "    "
   ]
  },
  {
   "cell_type": "code",
   "execution_count": 9,
   "metadata": {},
   "outputs": [
    {
     "data": {
      "text/plain": [
       "array([-43244.35      , -38464.72      , -13114.3       ,   -575.6661597 ,\n",
       "       -49014.63333333, -15471.4       ,  -8095.28333333, -13094.56      ])"
      ]
     },
     "execution_count": 9,
     "metadata": {},
     "output_type": "execute_result"
    }
   ],
   "source": [
    "V['3333333333333300000000000030010004000053000000000000333333333333330000000000000000000000000000000000000000000000000000000000000000000000000000000000000000000000000000000000000000000000000000000000000000000000000000000000000000000000000000000000000000000000000000000000000000000000000000000000000000000000000000000000000000000000000000000000000000000000000000000000000000000000000000000000000000000000000000000000000000000000000000000000000000000000000000000000000000000000000000000000000000000000000000000000000000000000000000000000000000000000000000000000000000000000000000000000000000000000000000000000000000000000000000000000000000000000000000000000000000000000000000000000']"
   ]
  },
  {
   "cell_type": "code",
   "execution_count": 5,
   "metadata": {},
   "outputs": [
    {
     "data": {
      "text/plain": [
       "dict_values([array([  2.,   5.,   8., 263.,   6.,   5.,   6.,   5.]), array([  2., 205.,   5.,   3.,   4.,   5.,   7.,   3.]), array([  5.,   1.,   4.,   3., 117.,   2.,   4.,   7.]), array([171.,   5.,   3.,   2.,   5.,   4.,   3.,   3.]), array([  5.,   1.,   2.,   3., 116.,   1.,   3.,   5.]), array([  6.,   4., 111.,   2.,   5.,   3.,   5.,   2.]), array([ 5.,  4.,  3.,  3., 78.,  3.,  1.,  5.]), array([ 2.,  2.,  1., 32.,  2.,  2.,  1.,  1.]), array([ 2.,  3.,  3., 40.,  3.,  2.,  3.,  1.]), array([ 2.,  1.,  2.,  3.,  1., 14.,  3.,  2.]), array([1., 2., 1., 2., 1., 1., 1., 1.]), array([1., 1., 0., 1., 1., 1., 1., 0.]), array([0., 0., 2., 0., 0., 1., 1., 1.]), array([0., 0., 0., 0., 0., 1., 0., 1.]), array([1., 1., 0., 0., 0., 0., 0., 0.]), array([3., 2., 2., 3., 2., 4., 1., 2.]), array([1., 2., 2., 0., 0., 1., 1., 1.]), array([0., 1., 1., 1., 1., 1., 1., 1.]), array([0., 1., 0., 0., 0., 1., 0., 1.]), array([0., 1., 0., 0., 0., 0., 1., 1.]), array([1., 0., 0., 0., 0., 1., 1., 0.]), array([0., 0., 0., 1., 0., 1., 0., 0.]), array([0., 0., 0., 0., 1., 0., 0., 1.]), array([0., 0., 0., 0., 0., 0., 1., 1.]), array([0., 0., 0., 0., 0., 0., 1., 1.]), array([ 1.,  1.,  3.,  1.,  2.,  1., 13.,  1.]), array([2., 1., 2., 1., 2., 1., 1., 3.]), array([1., 1., 1., 1., 1., 2., 2., 1.]), array([1., 1., 1., 0., 1., 1., 0., 1.]), array([1., 1., 0., 0., 0., 0., 1., 0.]), array([1., 0., 0., 1., 0., 1., 0., 0.]), array([0., 0., 0., 0., 0., 1., 1., 0.]), array([ 2.,  2.,  2.,  2.,  1.,  2.,  1., 13.]), array([2., 1., 2., 3., 1., 2., 9., 1.]), array([1., 1., 2., 1., 1., 1., 2., 6.]), array([2., 2., 1., 2., 1., 1., 2., 1.]), array([1., 1., 1., 1., 1., 2., 1., 2.]), array([0., 0., 0., 0., 0., 0., 0., 1.]), array([0., 0., 0., 0., 0., 0., 0., 1.]), array([0., 0., 0., 1., 0., 0., 0., 0.])])"
      ]
     },
     "execution_count": 5,
     "metadata": {},
     "output_type": "execute_result"
    }
   ],
   "source": [
    "N.values()"
   ]
  },
  {
   "cell_type": "code",
   "execution_count": 6,
   "metadata": {},
   "outputs": [
    {
     "name": "stdout",
     "output_type": "stream",
     "text": [
      "State: 30010004000053 Action: push up Value: -17.929571984435764\n",
      "State: 30001004000053 Action: push up Value: -26.467045454545403\n",
      "State: 30000104000053 Action: push up Value: -42.15221238938045\n",
      "State: 30000014000053 Action: move up Value: -85.7607142857142\n",
      "State: 30100004000053 Action: move left Value: -27.856830601092888\n",
      "State: 31000004000053 Action: push down Value: -54.89904761904758\n",
      "State: 30000001400053 Action: push right Value: -135.73333333333318\n",
      "State: 30000010400053 Action: push left Value: -388.4999999999996\n",
      "State: 30000100400053 Action: move up Value: -261.19999999999965\n",
      "State: 30001000400053 Action: push up Value: 0.0\n",
      "State: 30010000400053 Action: push down Value: 0.0\n",
      "State: 30100000400053 Action: push up Value: 0.0\n",
      "State: 30000000140053 Action: move down Value: -221.69999999999948\n",
      "State: 30000001040053 Action: push down Value: 0.0\n",
      "State: 30000000014053 Action: push left Value: -410.3333333333328\n",
      "State: 30000000104053 Action: push left Value: -58.3000000000001\n",
      "State: 30000000001453 Action: push up Value: 0.0\n",
      "State: 30000010040053 Action: push down Value: 0.0\n",
      "State: 30000100040053 Action: push up Value: 0.0\n",
      "State: 30001000040053 Action: push down Value: 0.0\n",
      "State: 30010000040053 Action: push down Value: 0.0\n",
      "State: 30100000040053 Action: push up Value: 0.0\n",
      "State: 31000000040053 Action: push up Value: 0.0\n",
      "State: 30000001004053 Action: push up Value: 0.0\n",
      "State: 30000010004053 Action: push up Value: 0.0\n",
      "State: 30000100004053 Action: push up Value: 0.0\n",
      "State: 31000000400053 Action: push up Value: 0.0\n"
     ]
    }
   ],
   "source": [
    "\n",
    "for s in V:\n",
    "    argmax = np.argmax(V[s])\n",
    "    max_val = np.max(V[s])\n",
    "    s = s[26:40]\n",
    "    print(\"State: {} Action: {} Value: {}\".format(s,ACTION_LOOKUP[argmax],max_val))"
   ]
  },
  {
   "cell_type": "code",
   "execution_count": 6,
   "metadata": {},
   "outputs": [],
   "source": [
    "env.reset()\n",
    "s = env.unwrapped.serialize_state()"
   ]
  },
  {
   "cell_type": "code",
   "execution_count": 7,
   "metadata": {},
   "outputs": [
    {
     "name": "stdout",
     "output_type": "stream",
     "text": [
      "Action: push up Reward: 9.9\n",
      "Action: move right Reward: 9.8\n",
      "Action: push up Reward: -0.29999999999999927\n",
      "Action: push up Reward: -10.399999999999999\n",
      "Action: push up Reward: -20.5\n",
      "Action: move up Reward: -20.6\n",
      "Action: push up Reward: -30.700000000000003\n",
      "Action: push up Reward: -40.800000000000004\n",
      "Action: push up Reward: -50.900000000000006\n",
      "Action: push up Reward: -61.00000000000001\n",
      "Action: push up Reward: -71.1\n",
      "Action: push up Reward: -81.19999999999999\n",
      "Action: push up Reward: -91.29999999999998\n",
      "Action: push up Reward: -101.39999999999998\n",
      "Action: push up Reward: -111.49999999999997\n",
      "Action: push up Reward: -121.59999999999997\n",
      "Action: push up Reward: -131.69999999999996\n",
      "Action: push up Reward: -141.79999999999995\n",
      "Action: push up Reward: -151.89999999999995\n",
      "Action: push up Reward: -161.99999999999994\n",
      "Action: push up Reward: -172.09999999999994\n",
      "Action: move right Reward: -172.19999999999993\n",
      "Action: push up Reward: -182.29999999999993\n",
      "Action: push up Reward: -192.39999999999992\n",
      "Action: push up Reward: -202.49999999999991\n",
      "Action: push up Reward: -212.5999999999999\n",
      "Action: move right Reward: -212.6999999999999\n",
      "Action: push up Reward: -222.7999999999999\n",
      "Action: push up Reward: -232.8999999999999\n",
      "Action: push up Reward: -242.9999999999999\n",
      "Action: push up Reward: -253.09999999999988\n",
      "Action: push up Reward: -263.19999999999993\n",
      "Action: push up Reward: -273.29999999999995\n",
      "Action: push up Reward: -283.4\n",
      "Action: push up Reward: -293.5\n",
      "Action: push up Reward: -303.6\n",
      "Action: move down Reward: -313.70000000000005\n",
      "Action: move down Reward: -323.80000000000007\n",
      "Action: push up Reward: -333.9000000000001\n",
      "Action: push up Reward: -344.0000000000001\n",
      "Action: push up Reward: -354.10000000000014\n",
      "Action: push up Reward: -364.20000000000016\n",
      "Action: push up Reward: -374.3000000000002\n",
      "Action: push up Reward: -384.4000000000002\n",
      "Action: push up Reward: -394.5000000000002\n",
      "Action: push up Reward: -404.60000000000025\n",
      "Action: move down Reward: -414.7000000000003\n",
      "Action: push up Reward: -424.8000000000003\n",
      "Action: push up Reward: -434.9000000000003\n",
      "Action: push up Reward: -445.00000000000034\n",
      "Action: push up Reward: -455.10000000000036\n",
      "Action: push up Reward: -465.2000000000004\n",
      "Action: push up Reward: -475.3000000000004\n",
      "Action: push up Reward: -485.40000000000043\n",
      "Action: push up Reward: -495.50000000000045\n"
     ]
    },
    {
     "ename": "KeyboardInterrupt",
     "evalue": "",
     "output_type": "error",
     "traceback": [
      "\u001b[1;31m---------------------------------------------------------------------------\u001b[0m",
      "\u001b[1;31mKeyboardInterrupt\u001b[0m                         Traceback (most recent call last)",
      "\u001b[1;32md:\\2023-2024\\RNN\\Sokoban\\Sokoban_MC.ipynb Cell 9\u001b[0m line \u001b[0;36m5\n\u001b[0;32m      <a href='vscode-notebook-cell:/d%3A/2023-2024/RNN/Sokoban/Sokoban_MC.ipynb#X11sZmlsZQ%3D%3D?line=2'>3</a>\u001b[0m \u001b[39mwhile\u001b[39;00m \u001b[39mnot\u001b[39;00m done:\n\u001b[0;32m      <a href='vscode-notebook-cell:/d%3A/2023-2024/RNN/Sokoban/Sokoban_MC.ipynb#X11sZmlsZQ%3D%3D?line=3'>4</a>\u001b[0m     \u001b[39mif\u001b[39;00m time\u001b[39m.\u001b[39mtime() \u001b[39m-\u001b[39m st_time \u001b[39m<\u001b[39m \u001b[39m.2\u001b[39m:\n\u001b[1;32m----> <a href='vscode-notebook-cell:/d%3A/2023-2024/RNN/Sokoban/Sokoban_MC.ipynb#X11sZmlsZQ%3D%3D?line=4'>5</a>\u001b[0m         env\u001b[39m.\u001b[39;49mrender()\n\u001b[0;32m      <a href='vscode-notebook-cell:/d%3A/2023-2024/RNN/Sokoban/Sokoban_MC.ipynb#X11sZmlsZQ%3D%3D?line=5'>6</a>\u001b[0m         \u001b[39mcontinue\u001b[39;00m\n\u001b[0;32m      <a href='vscode-notebook-cell:/d%3A/2023-2024/RNN/Sokoban/Sokoban_MC.ipynb#X11sZmlsZQ%3D%3D?line=6'>7</a>\u001b[0m     st_time \u001b[39m=\u001b[39m time\u001b[39m.\u001b[39mtime()\n",
      "File \u001b[1;32md:\\2023-2024\\RNN\\Sokoban\\SokobanEnv\\lib\\site-packages\\gym\\core.py:295\u001b[0m, in \u001b[0;36mWrapper.render\u001b[1;34m(self, mode, **kwargs)\u001b[0m\n\u001b[0;32m    294\u001b[0m \u001b[39mdef\u001b[39;00m \u001b[39mrender\u001b[39m(\u001b[39mself\u001b[39m, mode\u001b[39m=\u001b[39m\u001b[39m\"\u001b[39m\u001b[39mhuman\u001b[39m\u001b[39m\"\u001b[39m, \u001b[39m*\u001b[39m\u001b[39m*\u001b[39mkwargs):\n\u001b[1;32m--> 295\u001b[0m     \u001b[39mreturn\u001b[39;00m \u001b[39mself\u001b[39m\u001b[39m.\u001b[39menv\u001b[39m.\u001b[39mrender(mode, \u001b[39m*\u001b[39m\u001b[39m*\u001b[39mkwargs)\n",
      "File \u001b[1;32md:\\2023-2024\\rnn\\sokoban\\gym-sokoban\\gym_sokoban\\envs\\sokoban_env.py:258\u001b[0m, in \u001b[0;36mSokobanEnv.render\u001b[1;34m(self, mode, close, scale)\u001b[0m\n\u001b[0;32m    256\u001b[0m     \u001b[39mif\u001b[39;00m \u001b[39mself\u001b[39m\u001b[39m.\u001b[39mviewer \u001b[39mis\u001b[39;00m \u001b[39mNone\u001b[39;00m:\n\u001b[0;32m    257\u001b[0m         \u001b[39mself\u001b[39m\u001b[39m.\u001b[39mviewer \u001b[39m=\u001b[39m rendering\u001b[39m.\u001b[39mSimpleImageViewer()\n\u001b[1;32m--> 258\u001b[0m     \u001b[39mself\u001b[39;49m\u001b[39m.\u001b[39;49mviewer\u001b[39m.\u001b[39;49mimshow(img)\n\u001b[0;32m    259\u001b[0m     \u001b[39mreturn\u001b[39;00m \u001b[39mself\u001b[39m\u001b[39m.\u001b[39mviewer\u001b[39m.\u001b[39misopen\n\u001b[0;32m    261\u001b[0m \u001b[39melse\u001b[39;00m:\n",
      "File \u001b[1;32md:\\2023-2024\\RNN\\Sokoban\\SokobanEnv\\lib\\site-packages\\gym\\envs\\classic_control\\rendering.py:441\u001b[0m, in \u001b[0;36mSimpleImageViewer.imshow\u001b[1;34m(self, arr)\u001b[0m\n\u001b[0;32m    437\u001b[0m \u001b[39massert\u001b[39;00m \u001b[39mlen\u001b[39m(arr\u001b[39m.\u001b[39mshape) \u001b[39m==\u001b[39m \u001b[39m3\u001b[39m, \u001b[39m\"\u001b[39m\u001b[39mYou passed in an image with the wrong number shape\u001b[39m\u001b[39m\"\u001b[39m\n\u001b[0;32m    438\u001b[0m image \u001b[39m=\u001b[39m pyglet\u001b[39m.\u001b[39mimage\u001b[39m.\u001b[39mImageData(\n\u001b[0;32m    439\u001b[0m     arr\u001b[39m.\u001b[39mshape[\u001b[39m1\u001b[39m], arr\u001b[39m.\u001b[39mshape[\u001b[39m0\u001b[39m], \u001b[39m\"\u001b[39m\u001b[39mRGB\u001b[39m\u001b[39m\"\u001b[39m, arr\u001b[39m.\u001b[39mtobytes(), pitch\u001b[39m=\u001b[39marr\u001b[39m.\u001b[39mshape[\u001b[39m1\u001b[39m] \u001b[39m*\u001b[39m \u001b[39m-\u001b[39m\u001b[39m3\u001b[39m\n\u001b[0;32m    440\u001b[0m )\n\u001b[1;32m--> 441\u001b[0m texture \u001b[39m=\u001b[39m image\u001b[39m.\u001b[39;49mget_texture()\n\u001b[0;32m    442\u001b[0m gl\u001b[39m.\u001b[39mglTexParameteri(gl\u001b[39m.\u001b[39mGL_TEXTURE_2D, gl\u001b[39m.\u001b[39mGL_TEXTURE_MAG_FILTER, gl\u001b[39m.\u001b[39mGL_NEAREST)\n\u001b[0;32m    443\u001b[0m texture\u001b[39m.\u001b[39mwidth \u001b[39m=\u001b[39m \u001b[39mself\u001b[39m\u001b[39m.\u001b[39mwidth\n",
      "File \u001b[1;32md:\\2023-2024\\RNN\\Sokoban\\SokobanEnv\\lib\\site-packages\\pyglet\\image\\__init__.py:703\u001b[0m, in \u001b[0;36mImageData.get_texture\u001b[1;34m(self, rectangle)\u001b[0m\n\u001b[0;32m    701\u001b[0m \u001b[39mdef\u001b[39;00m \u001b[39mget_texture\u001b[39m(\u001b[39mself\u001b[39m, rectangle\u001b[39m=\u001b[39m\u001b[39mFalse\u001b[39;00m):\n\u001b[0;32m    702\u001b[0m     \u001b[39mif\u001b[39;00m \u001b[39mnot\u001b[39;00m \u001b[39mself\u001b[39m\u001b[39m.\u001b[39m_current_texture:\n\u001b[1;32m--> 703\u001b[0m         \u001b[39mself\u001b[39m\u001b[39m.\u001b[39m_current_texture \u001b[39m=\u001b[39m \u001b[39mself\u001b[39;49m\u001b[39m.\u001b[39;49mcreate_texture(Texture, rectangle)\n\u001b[0;32m    704\u001b[0m     \u001b[39mreturn\u001b[39;00m \u001b[39mself\u001b[39m\u001b[39m.\u001b[39m_current_texture\n",
      "File \u001b[1;32md:\\2023-2024\\RNN\\Sokoban\\SokobanEnv\\lib\\site-packages\\pyglet\\image\\__init__.py:697\u001b[0m, in \u001b[0;36mImageData.create_texture\u001b[1;34m(self, cls, rectangle)\u001b[0m\n\u001b[0;32m    694\u001b[0m     texture\u001b[39m.\u001b[39manchor_x \u001b[39m=\u001b[39m \u001b[39mself\u001b[39m\u001b[39m.\u001b[39manchor_x\n\u001b[0;32m    695\u001b[0m     texture\u001b[39m.\u001b[39manchor_y \u001b[39m=\u001b[39m \u001b[39mself\u001b[39m\u001b[39m.\u001b[39manchor_y\n\u001b[1;32m--> 697\u001b[0m \u001b[39mself\u001b[39;49m\u001b[39m.\u001b[39;49mblit_to_texture(texture\u001b[39m.\u001b[39;49mtarget, texture\u001b[39m.\u001b[39;49mlevel, \u001b[39mself\u001b[39;49m\u001b[39m.\u001b[39;49manchor_x, \u001b[39mself\u001b[39;49m\u001b[39m.\u001b[39;49manchor_y, \u001b[39m0\u001b[39;49m, \u001b[39mNone\u001b[39;49;00m)\n\u001b[0;32m    699\u001b[0m \u001b[39mreturn\u001b[39;00m texture\n",
      "File \u001b[1;32md:\\2023-2024\\RNN\\Sokoban\\SokobanEnv\\lib\\site-packages\\pyglet\\image\\__init__.py:795\u001b[0m, in \u001b[0;36mImageData.blit_to_texture\u001b[1;34m(self, target, level, x, y, z, internalformat)\u001b[0m\n\u001b[0;32m    791\u001b[0m     fmt, gl_type \u001b[39m=\u001b[39m \u001b[39mself\u001b[39m\u001b[39m.\u001b[39m_get_gl_format_and_type(data_format)\n\u001b[0;32m    793\u001b[0m \u001b[39m# Get data in required format (hopefully will be the same format it's already\u001b[39;00m\n\u001b[0;32m    794\u001b[0m \u001b[39m# in, unless that's an obscure format, upside-down or the driver is old).\u001b[39;00m\n\u001b[1;32m--> 795\u001b[0m data \u001b[39m=\u001b[39m \u001b[39mself\u001b[39;49m\u001b[39m.\u001b[39;49m_convert(data_format, data_pitch)\n\u001b[0;32m    797\u001b[0m \u001b[39mif\u001b[39;00m data_pitch \u001b[39m&\u001b[39m \u001b[39m0x1\u001b[39m:\n\u001b[0;32m    798\u001b[0m     align \u001b[39m=\u001b[39m \u001b[39m1\u001b[39m\n",
      "File \u001b[1;32md:\\2023-2024\\RNN\\Sokoban\\SokobanEnv\\lib\\site-packages\\pyglet\\image\\__init__.py:912\u001b[0m, in \u001b[0;36mImageData._convert\u001b[1;34m(self, fmt, pitch)\u001b[0m\n\u001b[0;32m    910\u001b[0m         rows \u001b[39m=\u001b[39m [data[i:i\u001b[39m+\u001b[39mnew_pitch] \u001b[39mfor\u001b[39;00m i \u001b[39min\u001b[39;00m \u001b[39mrange\u001b[39m(\u001b[39m0\u001b[39m, \u001b[39mlen\u001b[39m(data), new_pitch)]\n\u001b[0;32m    911\u001b[0m         rows\u001b[39m.\u001b[39mreverse()\n\u001b[1;32m--> 912\u001b[0m         data \u001b[39m=\u001b[39m asbytes(\u001b[39m'\u001b[39;49m\u001b[39m'\u001b[39;49m)\u001b[39m.\u001b[39;49mjoin(rows)\n\u001b[0;32m    914\u001b[0m \u001b[39mreturn\u001b[39;00m asbytes(data)\n",
      "\u001b[1;31mKeyboardInterrupt\u001b[0m: "
     ]
    }
   ],
   "source": [
    "st_time = time.time()\n",
    "done = False\n",
    "while not done:\n",
    "    if time.time() - st_time < .2:\n",
    "        env.render()\n",
    "        continue\n",
    "    st_time = time.time()\n",
    "    action_time = time.time()\n",
    "    action = greedy_policy(V,state)\n",
    "    next_state, reward, done, info = env.step(action)\n",
    "    next_state = env.unwrapped.serialize_state()\n",
    "    print(\"Action: {} Reward: {}\".format(ACTION_LOOKUP[action],reward))"
   ]
  }
 ],
 "metadata": {
  "kernelspec": {
   "display_name": "SokobanEnv",
   "language": "python",
   "name": "python3"
  },
  "language_info": {
   "codemirror_mode": {
    "name": "ipython",
    "version": 3
   },
   "file_extension": ".py",
   "mimetype": "text/x-python",
   "name": "python",
   "nbconvert_exporter": "python",
   "pygments_lexer": "ipython3",
   "version": "3.9.13"
  }
 },
 "nbformat": 4,
 "nbformat_minor": 2
}
